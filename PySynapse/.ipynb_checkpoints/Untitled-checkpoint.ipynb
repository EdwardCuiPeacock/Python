{
 "cells": [
  {
   "cell_type": "code",
   "execution_count": 1,
   "metadata": {
    "collapsed": false
   },
   "outputs": [
    {
     "data": {
      "text/plain": [
       "3-element Array{Union(UTF8String,ASCIIString),1}:\n",
       " \"/Applications/Julia-0.3.10.app/Contents/Resources/julia/local/share/julia/site/v0.3\"\n",
       " \"/Applications/Julia-0.3.10.app/Contents/Resources/julia/share/julia/site/v0.3\"      \n",
       " \"/users/ben/dropbox/code/SynapseDev/julia\"                                           "
      ]
     },
     "execution_count": 1,
     "metadata": {},
     "output_type": "execute_result"
    }
   ],
   "source": [
    "LOAD_PATH"
   ]
  },
  {
   "cell_type": "code",
   "execution_count": 16,
   "metadata": {
    "collapsed": false
   },
   "outputs": [
    {
     "data": {
      "text/plain": [
       "v\"0.3.10\""
      ]
     },
     "execution_count": 16,
     "metadata": {},
     "output_type": "execute_result"
    }
   ],
   "source": [
    "VERSION"
   ]
  },
  {
   "cell_type": "code",
   "execution_count": 11,
   "metadata": {
    "collapsed": false
   },
   "outputs": [
    {
     "data": {
      "text/plain": [
       "calcCIFbootstrap (generic function with 1 method)"
      ]
     },
     "execution_count": 11,
     "metadata": {},
     "output_type": "execute_result"
    }
   ],
   "source": [
    "@profile begin\n",
    "function calcCIFcore(sourceTrainIn, targetTrainIn, halfWidth)\n",
    "    if length(sourceTrainIn) < 2 | length(targetTrainIn) < 2\n",
    "        return 0., 0\n",
    "    end\n",
    "    sourceTrain = sourceTrainIn[1:end-1]\n",
    "    targetTrain = targetTrainIn[1:end-1] # to remove last entry\n",
    "    syncCounts = 0\n",
    "    for oneEvent in sourceTrain\n",
    "        syncCounts += sum((targetTrain .>= (oneEvent - halfWidth)) & (targetTrain .< (oneEvent + halfWidth))) > 0\n",
    "    end\n",
    "    return syncCounts / length(sourceTrain), syncCounts\n",
    "end\n",
    "end\n",
    "\n",
    "function calcCIFbootstrap(sourceTrain, targetTrain, realCIF, halfWidth, bootstrapNum)\n",
    "    randCIF = [0.0 for ii = 1:bootstrapNum]\n",
    "    sourceLength = length(sourceTrain)\n",
    "    targetLength = length(targetTrain)\n",
    "    sourceIntervals = diff([0.; sourceTrain])\n",
    "    targetIntervals = diff([0.; targetTrain])\n",
    "    for ii = 1:bootstrapNum\n",
    "        randCIF[ii], randSyncCounts = calcCIFcore(cumsum(sourceIntervals[randperm(sourceLength)]), \n",
    "                cumsum(targetIntervals[randperm(targetLength)]), halfWidth)\n",
    "    end\n",
    "    pValue = sum(randCIF .>= realCIF) / bootstrapNum\n",
    "    return mean(randCIF), pValue\n",
    "end"
   ]
  },
  {
   "cell_type": "code",
   "execution_count": 12,
   "metadata": {
    "collapsed": false
   },
   "outputs": [
    {
     "data": {
      "text/plain": [
       "1.0"
      ]
     },
     "execution_count": 12,
     "metadata": {},
     "output_type": "execute_result"
    }
   ],
   "source": [
    "a1 = [52., 58, 68, 168, 189.2, 199.2]\n",
    "a2 = [35.5, 52.6, 59.1, 70.2, 80.2, 168.2, 170, 192.2]\n",
    "widthMs = 1.0"
   ]
  },
  {
   "cell_type": "code",
   "execution_count": 15,
   "metadata": {
    "collapsed": false
   },
   "outputs": [
    {
     "ename": "LoadError",
     "evalue": "report not defined\nwhile loading In[15], in expression starting on line 3",
     "output_type": "error",
     "traceback": [
      "report not defined\nwhile loading In[15], in expression starting on line 3",
      "",
      " in anonymous at profile.jl:14"
     ]
    }
   ],
   "source": [
    "\n",
    "realCIF, syncCounts = calcCIFcore(a1, a2, widthMs)\n",
    "@profile report"
   ]
  },
  {
   "cell_type": "code",
   "execution_count": 14,
   "metadata": {
    "collapsed": false
   },
   "outputs": [
    {
     "ename": "LoadError",
     "evalue": "report not defined\nwhile loading In[14], in expression starting on line 1",
     "output_type": "error",
     "traceback": [
      "report not defined\nwhile loading In[14], in expression starting on line 1",
      "",
      " in anonymous at profile.jl:14"
     ]
    }
   ],
   "source": [
    "\n"
   ]
  },
  {
   "cell_type": "code",
   "execution_count": null,
   "metadata": {
    "collapsed": true
   },
   "outputs": [],
   "source": []
  }
 ],
 "metadata": {
  "kernelspec": {
   "display_name": "Julia 0.4.0-dev",
   "language": "julia",
   "name": "julia-0.4"
  },
  "language_info": {
   "name": "julia",
   "version": "0.3.10"
  }
 },
 "nbformat": 4,
 "nbformat_minor": 0
}
