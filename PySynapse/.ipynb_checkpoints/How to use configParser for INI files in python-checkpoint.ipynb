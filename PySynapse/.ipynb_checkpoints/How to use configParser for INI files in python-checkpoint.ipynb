{
 "cells": [
  {
   "cell_type": "code",
   "execution_count": 3,
   "metadata": {
    "collapsed": false
   },
   "outputs": [],
   "source": [
    "import ConfigParser\n",
    "import sys\n",
    "import os.path as path"
   ]
  },
  {
   "cell_type": "code",
   "execution_count": 4,
   "metadata": {
    "collapsed": false
   },
   "outputs": [
    {
     "data": {
      "text/plain": [
       "False"
      ]
     },
     "execution_count": 4,
     "metadata": {},
     "output_type": "execute_result"
    }
   ],
   "source": [
    "fN = \"/Volumes/General/Dropbox/Work/Files/test2.txt\"\n",
    "path.isfile(fN)"
   ]
  },
  {
   "cell_type": "code",
   "execution_count": 150,
   "metadata": {
    "collapsed": false
   },
   "outputs": [
    {
     "ename": "SyntaxError",
     "evalue": "invalid syntax (ProcessEpisodes.py, line 9)",
     "output_type": "error",
     "traceback": [
      "\u001b[0;36m  File \u001b[0;32m\"/Users/Ben/Dropbox/Code/SynapseDev/src/synapse/FileIO/ProcessEpisodes.py\"\u001b[0;36m, line \u001b[0;32m9\u001b[0m\n\u001b[0;31m    get episodeList(parserObj, sectionName):\u001b[0m\n\u001b[0m                  ^\u001b[0m\n\u001b[0;31mSyntaxError\u001b[0m\u001b[0;31m:\u001b[0m invalid syntax\n"
     ]
    }
   ],
   "source": [
    "sys.path.append(\"/Users/Ben/Dropbox/Code/SynapseDev/src/synapse/FileIO\")\n"
   ]
  },
  {
   "cell_type": "code",
   "execution_count": 163,
   "metadata": {
    "collapsed": true
   },
   "outputs": [],
   "source": [
    "import ProcessEpisodes as PE"
   ]
  },
  {
   "cell_type": "code",
   "execution_count": 164,
   "metadata": {
    "collapsed": false
   },
   "outputs": [
    {
     "data": {
      "text/plain": [
       "['expt1', 'expt2.unitary', 'expt3']"
      ]
     },
     "execution_count": 164,
     "metadata": {},
     "output_type": "execute_result"
    }
   ],
   "source": [
    "par2 = PE.readEpisodeList(fN)\n",
    "par2.sections()"
   ]
  },
  {
   "cell_type": "code",
   "execution_count": 165,
   "metadata": {
    "collapsed": false
   },
   "outputs": [
    {
     "ename": "TypeError",
     "evalue": "argument of type 'instance' is not iterable",
     "output_type": "error",
     "traceback": [
      "\u001b[0;31m---------------------------------------------------------------------------\u001b[0m",
      "\u001b[0;31mTypeError\u001b[0m                                 Traceback (most recent call last)",
      "\u001b[0;32m<ipython-input-165-7344e9faf52d>\u001b[0m in \u001b[0;36m<module>\u001b[0;34m()\u001b[0m\n\u001b[0;32m----> 1\u001b[0;31m \u001b[0meList\u001b[0m \u001b[0;34m=\u001b[0m \u001b[0mPE\u001b[0m\u001b[0;34m.\u001b[0m\u001b[0mepisodeList\u001b[0m\u001b[0;34m(\u001b[0m\u001b[0mpar2\u001b[0m\u001b[0;34m,\u001b[0m \u001b[0;34m\"expt1\"\u001b[0m\u001b[0;34m)\u001b[0m\u001b[0;34m\u001b[0m\u001b[0m\n\u001b[0m\u001b[1;32m      2\u001b[0m \u001b[0meList\u001b[0m\u001b[0;34m\u001b[0m\u001b[0m\n",
      "\u001b[0;32m/Users/Ben/Dropbox/Code/SynapseDev/src/synapse/FileIO/ProcessEpisodes.py\u001b[0m in \u001b[0;36mepisodeList\u001b[0;34m(parserObj, sectionName)\u001b[0m\n\u001b[1;32m     23\u001b[0m \u001b[0;32mdef\u001b[0m \u001b[0mepisodeList\u001b[0m\u001b[0;34m(\u001b[0m\u001b[0mparserObj\u001b[0m\u001b[0;34m,\u001b[0m \u001b[0msectionName\u001b[0m\u001b[0;34m)\u001b[0m\u001b[0;34m:\u001b[0m\u001b[0;34m\u001b[0m\u001b[0m\n\u001b[1;32m     24\u001b[0m     \u001b[0;31m#\"returns a python list of full names and paths of selected episodes\"\u001b[0m\u001b[0;34m\u001b[0m\u001b[0;34m\u001b[0m\u001b[0m\n\u001b[0;32m---> 25\u001b[0;31m     \u001b[0msectionNames\u001b[0m \u001b[0;34m=\u001b[0m \u001b[0mparserObj\u001b[0m\u001b[0;34m.\u001b[0m\u001b[0msections\u001b[0m\u001b[0;34m(\u001b[0m\u001b[0;34m)\u001b[0m\u001b[0;34m\u001b[0m\u001b[0m\n\u001b[0m\u001b[1;32m     26\u001b[0m     \u001b[0;32mif\u001b[0m \u001b[0msectionName\u001b[0m \u001b[0;32min\u001b[0m \u001b[0msectionNames\u001b[0m\u001b[0;34m:\u001b[0m\u001b[0;34m\u001b[0m\u001b[0m\n\u001b[1;32m     27\u001b[0m         \u001b[0mretValue\u001b[0m \u001b[0;34m=\u001b[0m \u001b[0;34m[\u001b[0m\u001b[0;34m]\u001b[0m\u001b[0;34m\u001b[0m\u001b[0m\n",
      "\u001b[0;31mTypeError\u001b[0m: argument of type 'instance' is not iterable"
     ]
    }
   ],
   "source": [
    "eList = PE.episodeList(par2, \"expt1\")\n",
    "eList"
   ]
  },
  {
   "cell_type": "code",
   "execution_count": 126,
   "metadata": {
    "collapsed": false
   },
   "outputs": [],
   "source": [
    "par = ConfigParser.SafeConfigParser()\n"
   ]
  },
  {
   "cell_type": "code",
   "execution_count": 162,
   "metadata": {
    "collapsed": false
   },
   "outputs": [
    {
     "data": {
      "text/plain": [
       "['expt1', 'expt2.unitary', 'expt3']"
      ]
     },
     "execution_count": 162,
     "metadata": {},
     "output_type": "execute_result"
    }
   ],
   "source": [
    "par2.sections()"
   ]
  },
  {
   "cell_type": "code",
   "execution_count": 138,
   "metadata": {
    "collapsed": false
   },
   "outputs": [
    {
     "data": {
      "text/plain": [
       "['cluster1', 'cluster3', 'cluster6']"
      ]
     },
     "execution_count": 138,
     "metadata": {},
     "output_type": "execute_result"
    }
   ],
   "source": [
    "par = ConfigParser.SafeConfigParser()\n",
    "par.read(fN)\n",
    "sec = par.sections()\n",
    "sec"
   ]
  },
  {
   "cell_type": "code",
   "execution_count": 159,
   "metadata": {
    "collapsed": false
   },
   "outputs": [
    {
     "data": {
      "text/plain": [
       "False"
      ]
     },
     "execution_count": 159,
     "metadata": {},
     "output_type": "execute_result"
    }
   ],
   "source": [
    "\"cluster1\" in par.sections()"
   ]
  },
  {
   "cell_type": "code",
   "execution_count": 139,
   "metadata": {
    "collapsed": false,
    "scrolled": true
   },
   "outputs": [
    {
     "name": "stdout",
     "output_type": "stream",
     "text": [
      "Section is cluster1\n",
      "Episodes are: \n",
      "/Users/Ben/Dropbox/Lab Data/Sample Data/May 22 2008/Hilas A.22May08.S1.E7.dat\n",
      "/Users/Ben/Dropbox/Lab Data/Sample Data/May 22 2008/Hilas A.22May08.S1.E8.dat\n",
      "/Users/Ben/Dropbox/Lab Data/Sample Data/May 22 2008/Hilas A.22May08.S1.E9.dat\n",
      "/Users/Ben/Dropbox/Lab Data/Sample Data/May 22 2008/Hilas A.22May08.S1.E10.dat\n",
      "/Users/Ben/Dropbox/Lab Data/Sample Data/May 22 2008/Hilas A.22May08.S1.E12.dat\n",
      "/Users/Ben/Dropbox/Lab Data/Sample Data/May 22 2008/Hilas A.22May08.S1.E13.dat\n",
      "Comment is: Local stim at 10 v in EPL\n",
      "\n",
      "Section is cluster3\n",
      "Episodes are: \n",
      "/Users/Ben/Dropbox/Lab Data/Sample Data/May 22 2008/Hilas A.22May08.S1.E23.dat\n",
      "/Users/Ben/Dropbox/Lab Data/Sample Data/May 22 2008/Hilas A.22May08.S1.E24.dat\n",
      "/Users/Ben/Dropbox/Lab Data/Sample Data/May 22 2008/Hilas A.22May08.S1.E27.dat\n",
      "Comment is: stim at 11 v in GCL 100 um away\n",
      "\n",
      "Section is cluster6\n",
      "Episodes are: \n",
      "/Users/Ben/Dropbox/Lab Data/Sample Data/May 22 2008 B/Hilas A.22May08.S2.E28.dat\n",
      "/Users/Ben/Dropbox/Lab Data/Sample Data/May 22 2008 B/Hilas A.22May08.S2.E29.dat\n",
      "/Users/Ben/Dropbox/Lab Data/Sample Data/May 22 2008 B/Hilas A.22May08.S2.E31.dat\n",
      "/Users/Ben/Dropbox/Lab Data/Sample Data/May 22 2008 B/Hilas A.22May08.S2.E34.dat\n",
      "/Users/Ben/Dropbox/Lab Data/Sample Data/May 22 2008 B/Hilas A.22May08.S2.E35.dat\n",
      "Comment is: stim at 15v in GCL\n",
      "\n"
     ]
    }
   ],
   "source": [
    "for key in par.sections(): \n",
    "    print \"Section is \" + key\n",
    "    tempPath = par.get(key, \"outerPath\") + \"/\" + par.get(key, \"interPath\") + \"/\" + par.get(key, \"fileRoot\")\n",
    "    #print \"Path is \" + tempPath\n",
    "    print \"Episodes are: \" \n",
    "    epiListStr = par.get(key, \"cluster\")\n",
    "    if \",\" in epiListStr:\n",
    "        epiList = epiListStr.split(\",\")\n",
    "    else:\n",
    "        epiList = epiListStr.split(\" \")\n",
    "    for oneEpi in epiList:\n",
    "        if oneEpi:\n",
    "            print tempPath + oneEpi.strip() + \".dat\"\n",
    "    print \"Comment is: \" + par.get(key, \"comment\")\n",
    "    print \"\""
   ]
  },
  {
   "cell_type": "code",
   "execution_count": 133,
   "metadata": {
    "collapsed": false
   },
   "outputs": [
    {
     "name": "stdout",
     "output_type": "stream",
     "text": [
      "/Users/Ben/Dropbox/Work/Files\n"
     ]
    }
   ],
   "source": [
    "cd '~/dropbox/work/files'"
   ]
  },
  {
   "cell_type": "code",
   "execution_count": 134,
   "metadata": {
    "collapsed": false
   },
   "outputs": [
    {
     "data": {
      "text/plain": [
       "False"
      ]
     },
     "execution_count": 134,
     "metadata": {},
     "output_type": "execute_result"
    }
   ],
   "source": [
    "'Common' in sec"
   ]
  },
  {
   "cell_type": "code",
   "execution_count": 77,
   "metadata": {
    "collapsed": false
   },
   "outputs": [
    {
     "ename": "AttributeError",
     "evalue": "ConfigParser instance has no attribute '__getitem__'",
     "output_type": "error",
     "traceback": [
      "\u001b[0;31m---------------------------------------------------------------------------\u001b[0m",
      "\u001b[0;31mAttributeError\u001b[0m                            Traceback (most recent call last)",
      "\u001b[0;32m<ipython-input-77-8117d5a1e80c>\u001b[0m in \u001b[0;36m<module>\u001b[0;34m()\u001b[0m\n\u001b[0;32m----> 1\u001b[0;31m \u001b[0mpar\u001b[0m\u001b[0;34m[\u001b[0m\u001b[0;34m'cluster1'\u001b[0m\u001b[0;34m]\u001b[0m\u001b[0;34m\u001b[0m\u001b[0m\n\u001b[0m",
      "\u001b[0;31mAttributeError\u001b[0m: ConfigParser instance has no attribute '__getitem__'"
     ]
    }
   ],
   "source": [
    "par['cluster1']"
   ]
  },
  {
   "cell_type": "code",
   "execution_count": 147,
   "metadata": {
    "collapsed": false
   },
   "outputs": [
    {
     "name": "stdout",
     "output_type": "stream",
     "text": [
      "[Errno 2] No such file or directory: '(/Users)'\n",
      "/Users/Ben/Dropbox/Work/Files\n"
     ]
    }
   ],
   "source": [
    "cd(\"/Users\")"
   ]
  },
  {
   "cell_type": "code",
   "execution_count": null,
   "metadata": {
    "collapsed": true
   },
   "outputs": [],
   "source": []
  }
 ],
 "metadata": {
  "kernelspec": {
   "display_name": "Python 2",
   "language": "python",
   "name": "python2"
  },
  "language_info": {
   "codemirror_mode": {
    "name": "ipython",
    "version": 2
   },
   "file_extension": ".py",
   "mimetype": "text/x-python",
   "name": "python",
   "nbconvert_exporter": "python",
   "pygments_lexer": "ipython2",
   "version": "2.7.9"
  }
 },
 "nbformat": 4,
 "nbformat_minor": 0
}
