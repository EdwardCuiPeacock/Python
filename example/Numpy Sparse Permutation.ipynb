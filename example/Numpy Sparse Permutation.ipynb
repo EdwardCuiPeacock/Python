{
 "cells": [
  {
   "cell_type": "code",
   "execution_count": 1,
   "metadata": {
    "ExecuteTime": {
     "end_time": "2021-04-10T06:47:14.205994Z",
     "start_time": "2021-04-10T06:47:14.119922Z"
    }
   },
   "outputs": [],
   "source": [
    "import scipy.sparse\n",
    "from scipy.sparse import coo_matrix, csc_matrix, csr_matrix\n",
    "import numpy as np"
   ]
  },
  {
   "cell_type": "markdown",
   "metadata": {},
   "source": [
    "# Slicing"
   ]
  },
  {
   "cell_type": "code",
   "execution_count": 15,
   "metadata": {
    "ExecuteTime": {
     "end_time": "2021-04-10T06:15:02.541729Z",
     "start_time": "2021-04-10T06:15:02.524123Z"
    },
    "deletable": false,
    "editable": false
   },
   "outputs": [
    {
     "name": "stdout",
     "output_type": "stream",
     "text": [
      "mat\n",
      " [[1 0 1]\n",
      " [1 1 1]\n",
      " [0 1 0]]\n",
      "indptr [0 2 5 6]\n",
      "indices [0 2 0 1 2 1]\n",
      "start [5 0 2 5 0 2]\n",
      "end [6 2 5 6 2 5]\n",
      "length [1 2 3 1 2 3]\n",
      "new indptr [ 0  1  3  6  7  9 12]\n",
      "new indices [1 0 2 0 1 2 1 0 2 0 1 2]\n",
      "new mat \n",
      " [[0 1 0]\n",
      " [1 0 1]\n",
      " [1 1 1]\n",
      " [0 1 0]\n",
      " [1 0 1]\n",
      " [1 1 1]]\n"
     ]
    }
   ],
   "source": [
    "A = csr_matrix([[1, 0, 1], [1, 1, 1], [0, 1, 0]])\n",
    "s = np.array([2, 0, 1, 2, 0, 1])\n",
    "print(\"mat\\n\", A.A)\n",
    "print(\"indptr\", A.indptr)\n",
    "print(\"indices\", A.indices)\n",
    "\n",
    "start_index = np.take(A.indptr, s)\n",
    "print(\"start\", start_index)\n",
    "end_index = np.take(A.indptr, s+1)\n",
    "print(\"end\", end_index)\n",
    "length = end_index - start_index\n",
    "print(\"length\", length)\n",
    "new_indptr = np.concatenate([[0], np.cumsum(length)])\n",
    "print(\"new indptr\", new_indptr)\n",
    "#slices = tuple(map(slice, start_index, end_index)) # iterative\n",
    "new_indices = np.concatenate([A.indices[np.s_[i:j]] for (i, j) in zip(start_index, end_index)])\n",
    "print(\"new indices\", new_indices)\n",
    "\n",
    "new_A = csr_matrix((np.ones_like(new_indices), new_indices, new_indptr))\n",
    "print(\"new mat \\n\", new_A.A)\n"
   ]
  },
  {
   "cell_type": "code",
   "execution_count": 2,
   "metadata": {
    "ExecuteTime": {
     "end_time": "2021-04-10T06:47:26.135060Z",
     "start_time": "2021-04-10T06:47:23.997532Z"
    }
   },
   "outputs": [],
   "source": [
    "import tracemalloc\n",
    "tracemalloc.start()\n",
    "snapshot = []\n",
    "def numpy_slice_sparse_matrix(A, s, default_value=None):\n",
    "    \"\"\"\n",
    "    A: csr sparse matrix\n",
    "    s: row indices\n",
    "    default_value: default the new sparse matrix with this single value\n",
    "    \"\"\"\n",
    "    #snapshot.append(tracemalloc.take_snapshot()) # at start\n",
    "    A = A.tocsr()\n",
    "    start_index = np.take(A.indptr, s)\n",
    "    end_index = np.take(A.indptr, s+1)\n",
    "    new_indptr = np.concatenate([[0], np.cumsum(end_index - start_index)])\n",
    "    #snapshot.append(tracemalloc.take_snapshot()) # after finding out start end indices\n",
    "    # This could still be efficient if the slice length is not very long\n",
    "    # Hence efficient for sparse matrices\n",
    "    new_indices = np.concatenate([A.indices[i:j] for (i, j) in zip(start_index, end_index)])\n",
    "    #snapshot.append(tracemalloc.take_snapshot()) # after finding new indices\n",
    "    if default_value is None:\n",
    "        # Use original value\n",
    "        new_values = np.concatenate([A.data[i:j] for (i, j) in zip(start_index, end_index)])\n",
    "    else:\n",
    "        new_values = default_value * np.ones_like(new_indices)\n",
    "    #snapshot.append(tracemalloc.take_snapshot()) # after finding new values\n",
    "\n",
    "    # free some memory\n",
    "    del start_index\n",
    "    del end_index \n",
    "    new_A = csr_matrix((new_values, new_indices, new_indptr))\n",
    "    #snapshot.append(tracemalloc.take_snapshot()) # after making the new sparse matrix\n",
    "    return new_A\n",
    "\n",
    "#A = csr_matrix([[1, 0, 1], [1, 1, 1], [0, 1, 0]])\n",
    "#s = np.array([2, 0, 1, 2, 0, 1])\n",
    "#new_A = numpy_slice_sparse_matrix(A, s)\n",
    "#new_A.A\n",
    "\n",
    "A = coo_matrix((np.ones(int(2E6)), \n",
    "                (np.random.randint(0, 150000, size=int(2E6)), \n",
    "                 np.random.randint(0, 150000, size=int(2E6))))).tocsr()\n",
    "s = np.arange(150000)\n",
    "np.random.shuffle(s)\n",
    "\n",
    "new_A = numpy_slice_sparse_matrix(A, s, default_value=None)"
   ]
  },
  {
   "cell_type": "code",
   "execution_count": 3,
   "metadata": {
    "ExecuteTime": {
     "end_time": "2021-04-10T06:47:48.967292Z",
     "start_time": "2021-04-10T06:47:46.178172Z"
    }
   },
   "outputs": [
    {
     "name": "stdout",
     "output_type": "stream",
     "text": [
      "[164.015625, 164.12109375, 189.53125, 194.66015625, 194.66015625, 196.95703125, 200.19921875, 203.83203125, 207.88671875, 210.39453125, 214.97265625, 219.69140625, 191.3046875, 167.7109375, 168.1328125, 168.91796875, 171.66796875, 176.47265625, 181.58203125, 193.640625, 210.234375, 192.08203125, 176.58203125]\n"
     ]
    }
   ],
   "source": [
    "from memory_profiler import memory_usage\n",
    "def shift_A():\n",
    "    A = coo_matrix((np.ones(int(2E6)), \n",
    "                    (np.random.randint(0, 150000, size=int(2E6)), \n",
    "                     np.random.randint(0, 150000, size=int(2E6))))).tocsr()\n",
    "    s = np.arange(150000)\n",
    "    np.random.shuffle(s)\n",
    "    new_A = numpy_slice_sparse_matrix(A, s)\n",
    "mem = memory_usage(proc=shift_A)\n",
    "print(mem)"
   ]
  },
  {
   "cell_type": "code",
   "execution_count": 54,
   "metadata": {
    "ExecuteTime": {
     "end_time": "2021-04-10T06:33:03.893560Z",
     "start_time": "2021-04-10T06:33:03.806360Z"
    },
    "deletable": false,
    "editable": false
   },
   "outputs": [
    {
     "name": "stdout",
     "output_type": "stream",
     "text": [
      "[ Top 10 differences ]\n",
      "<__array_function__ internals>:5: size=72.1 MiB (+22.9 MiB), count=32 (+6), average=2307 KiB\n",
      "<ipython-input-49-8f494043b31d>:22: size=712 B (+712 B), count=9 (+9), average=79 B\n",
      "/Users/edward/opt/anaconda3/lib/python3.8/site-packages/ipykernel/kernelbase.py:291: size=7208 B (-496 B), count=14 (-1), average=515 B\n",
      "<ipython-input-49-8f494043b31d>:25: size=472 B (+472 B), count=1 (+1), average=472 B\n",
      "<ipython-input-49-8f494043b31d>:15: size=0 B (-472 B), count=0 (-1)\n",
      "/Users/edward/opt/anaconda3/lib/python3.8/signal.py:48: size=7608 B (-464 B), count=15 (-1), average=507 B\n",
      "<ipython-input-49-8f494043b31d>:18: size=464 B (+464 B), count=1 (+1), average=464 B\n",
      "/Users/edward/opt/anaconda3/lib/python3.8/tracemalloc.py:397: size=1760 B (+304 B), count=25 (+6), average=70 B\n",
      "/Users/edward/opt/anaconda3/lib/python3.8/codeop.py:136: size=6716 B (-248 B), count=85 (-4), average=79 B\n",
      "/Users/edward/opt/anaconda3/lib/python3.8/tracemalloc.py:532: size=60.2 KiB (+224 B), count=1151 (+4), average=54 B\n"
     ]
    }
   ],
   "source": [
    "top_stats = snapshot[3].compare_to(snapshot[1], 'lineno')\n",
    "print(\"[ Top 10 differences ]\")\n",
    "for stat in top_stats[:10]:\n",
    "    print(stat)"
   ]
  },
  {
   "cell_type": "code",
   "execution_count": 6,
   "metadata": {
    "ExecuteTime": {
     "end_time": "2021-04-10T06:49:00.062522Z",
     "start_time": "2021-04-10T06:48:59.955570Z"
    }
   },
   "outputs": [
    {
     "name": "stdout",
     "output_type": "stream",
     "text": [
      "[ Top 10 differences ]\n",
      "<__array_function__ internals>:5: size=22.9 MiB, count=13, average=1803 KiB\n",
      "/Users/edward/opt/anaconda3/lib/python3.8/site-packages/scipy/sparse/compressed.py:694: size=15.3 MiB, count=3, average=5208 KiB\n",
      "/Users/edward/opt/anaconda3/lib/python3.8/site-packages/scipy/sparse/compressed.py:693: size=7812 KiB, count=2, average=3906 KiB\n",
      "<ipython-input-2-80e8b9ec04e9>:40: size=1172 KiB, count=2, average=586 KiB\n",
      "/Users/edward/opt/anaconda3/lib/python3.8/site-packages/scipy/sparse/compressed.py:689: size=586 KiB, count=3, average=195 KiB\n",
      "/Users/edward/opt/anaconda3/lib/python3.8/site-packages/scipy/sparse/coo.py:402: size=586 KiB, count=2, average=293 KiB\n",
      "/Users/edward/opt/anaconda3/lib/python3.8/linecache.py:137: size=330 KiB, count=3174, average=106 B\n",
      "<frozen importlib._bootstrap_external>:580: size=311 KiB, count=3283, average=97 B\n",
      "/Users/edward/opt/anaconda3/lib/python3.8/posixpath.py:368: size=112 KiB, count=908, average=126 B\n",
      "/Users/edward/opt/anaconda3/lib/python3.8/collections/__init__.py:456: size=55.9 KiB, count=252, average=227 B\n"
     ]
    }
   ],
   "source": [
    "import tracemalloc\n",
    "tracemalloc.start()\n",
    "new_A = A[s, :]\n",
    "snapshot = tracemalloc.take_snapshot()\n",
    "top_stats = snapshot.statistics('lineno')\n",
    "print(\"[ Top 10 differences ]\")\n",
    "for stat in top_stats[:10]:\n",
    "    print(stat)"
   ]
  },
  {
   "cell_type": "code",
   "execution_count": 4,
   "metadata": {
    "ExecuteTime": {
     "end_time": "2021-04-10T06:47:58.845768Z",
     "start_time": "2021-04-10T06:47:57.866207Z"
    },
    "deletable": false,
    "editable": false,
    "run_control": {
     "frozen": true
    }
   },
   "outputs": [
    {
     "name": "stdout",
     "output_type": "stream",
     "text": [
      "[174.60546875, 174.60546875, 179.2890625, 189.8671875, 189.8671875, 189.97265625]\n"
     ]
    }
   ],
   "source": [
    "from memory_profiler import memory_usage\n",
    "def shift_A():\n",
    "    A = coo_matrix((np.ones(int(2E6)), \n",
    "                    (np.random.randint(0, 150000, size=int(2E6)), \n",
    "                     np.random.randint(0, 150000, size=int(2E6))))).tocsr()\n",
    "    s = np.arange(150000)\n",
    "    np.random.shuffle(s)\n",
    "    new_A = A[s, :]\n",
    "mem = memory_usage(proc=shift_A)\n",
    "print(mem)"
   ]
  },
  {
   "cell_type": "code",
   "execution_count": 1,
   "metadata": {
    "ExecuteTime": {
     "end_time": "2021-04-10T06:10:42.438086Z",
     "start_time": "2021-04-10T06:10:42.396975Z"
    },
    "deletable": false,
    "editable": false,
    "run_control": {
     "frozen": true
    }
   },
   "outputs": [
    {
     "data": {
      "text/plain": [
       "array([0, 2, 0, ..., 1, 2, 1])"
      ]
     },
     "execution_count": 1,
     "metadata": {},
     "output_type": "execute_result"
    }
   ],
   "source": [
    "indices = np.array([0, 2, 0, 1, 2, 1]*30000)\n",
    "indices"
   ]
  },
  {
   "cell_type": "code",
   "execution_count": 7,
   "metadata": {
    "ExecuteTime": {
     "end_time": "2021-04-10T06:11:50.115494Z",
     "start_time": "2021-04-10T06:11:50.066177Z"
    },
    "deletable": false,
    "editable": false,
    "run_control": {
     "frozen": true
    }
   },
   "outputs": [],
   "source": [
    "start_index = np.random.randint(0, len(indices), size=int(1E6))\n",
    "end_index = np.minimum(start_index + np.random.randint(1, 500, size=int(1E6)), len(indices))"
   ]
  },
  {
   "cell_type": "code",
   "execution_count": 11,
   "metadata": {
    "ExecuteTime": {
     "end_time": "2021-04-10T06:14:19.049096Z",
     "start_time": "2021-04-10T06:14:16.560769Z"
    },
    "deletable": false,
    "editable": false,
    "run_control": {
     "frozen": true
    }
   },
   "outputs": [
    {
     "data": {
      "text/plain": [
       "(249776513,)"
      ]
     },
     "execution_count": 11,
     "metadata": {},
     "output_type": "execute_result"
    }
   ],
   "source": [
    "np.concatenate([indices[i:j] for i, j in zip(start_index, end_index)]).shape"
   ]
  },
  {
   "cell_type": "markdown",
   "metadata": {
    "ExecuteTime": {
     "end_time": "2021-04-10T06:23:09.979058Z",
     "start_time": "2021-04-10T06:23:09.905018Z"
    }
   },
   "source": [
    "Conclusion: The `A[s, :]` operation is okay. It's both memory efficent and fast"
   ]
  },
  {
   "cell_type": "code",
   "execution_count": 9,
   "metadata": {
    "ExecuteTime": {
     "end_time": "2021-04-10T06:49:42.347999Z",
     "start_time": "2021-04-10T06:49:42.038122Z"
    }
   },
   "outputs": [],
   "source": [
    "A_i = coo_matrix((np.ones(int(2E6)), \n",
    "                (np.random.randint(0, 150000, size=int(2E6)), \n",
    "                 np.random.randint(0, 150000, size=int(2E6))))).tocsr()\n",
    "s = np.arange(150000)\n",
    "np.random.shuffle(s)\n",
    "A_i_1 = A_i[s, :]"
   ]
  },
  {
   "cell_type": "code",
   "execution_count": 10,
   "metadata": {
    "ExecuteTime": {
     "end_time": "2021-04-10T06:49:44.614498Z",
     "start_time": "2021-04-10T06:49:44.558067Z"
    }
   },
   "outputs": [
    {
     "data": {
      "text/plain": [
       "<150000x150000 sparse matrix of type '<class 'numpy.float64'>'\n",
       "\twith 218 stored elements in Compressed Sparse Row format>"
      ]
     },
     "execution_count": 10,
     "metadata": {},
     "output_type": "execute_result"
    }
   ],
   "source": [
    "A_i.multiply(A_i_1)"
   ]
  },
  {
   "cell_type": "code",
   "execution_count": null,
   "metadata": {},
   "outputs": [],
   "source": []
  }
 ],
 "metadata": {
  "kernelspec": {
   "display_name": "Python 3",
   "language": "python",
   "name": "python3"
  },
  "language_info": {
   "codemirror_mode": {
    "name": "ipython",
    "version": 3
   },
   "file_extension": ".py",
   "mimetype": "text/x-python",
   "name": "python",
   "nbconvert_exporter": "python",
   "pygments_lexer": "ipython3",
   "version": "3.8.3"
  },
  "toc": {
   "base_numbering": 1,
   "nav_menu": {},
   "number_sections": false,
   "sideBar": true,
   "skip_h1_title": false,
   "title_cell": "Table of Contents",
   "title_sidebar": "Contents",
   "toc_cell": false,
   "toc_position": {},
   "toc_section_display": true,
   "toc_window_display": false
  },
  "varInspector": {
   "cols": {
    "lenName": 16,
    "lenType": 16,
    "lenVar": 40
   },
   "kernels_config": {
    "python": {
     "delete_cmd_postfix": "",
     "delete_cmd_prefix": "del ",
     "library": "var_list.py",
     "varRefreshCmd": "print(var_dic_list())"
    },
    "r": {
     "delete_cmd_postfix": ") ",
     "delete_cmd_prefix": "rm(",
     "library": "var_list.r",
     "varRefreshCmd": "cat(var_dic_list()) "
    }
   },
   "types_to_exclude": [
    "module",
    "function",
    "builtin_function_or_method",
    "instance",
    "_Feature"
   ],
   "window_display": false
  }
 },
 "nbformat": 4,
 "nbformat_minor": 4
}
