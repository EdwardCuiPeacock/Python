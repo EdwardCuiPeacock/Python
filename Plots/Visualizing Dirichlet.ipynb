{
 "cells": [
  {
   "cell_type": "markdown",
   "metadata": {},
   "source": [
    "# Visualizing Dirichlet on a Simplex (3 supports)\n",
    "\n",
    "Based on\n",
    "http://blog.bogatron.net/blog/2014/02/02/visualizing-dirichlet-distributions/\n",
    "\n",
    "with extensions"
   ]
  },
  {
   "cell_type": "markdown",
   "metadata": {},
   "source": [
    "## Making a mesh grid of n polygon"
   ]
  },
  {
   "cell_type": "code",
   "execution_count": 1,
   "metadata": {
    "ExecuteTime": {
     "end_time": "2021-04-25T05:31:07.786484Z",
     "start_time": "2021-04-25T05:31:06.975333Z"
    }
   },
   "outputs": [
    {
     "data": {
      "image/png": "[encoded data removed]",
      "text/plain": [
       "<Figure size 576x288 with 2 Axes>"
      ]
     },
     "metadata": {
      "needs_background": "light"
     },
     "output_type": "display_data"
    }
   ],
   "source": [
    "%matplotlib inline\n",
    "import numpy as np\n",
    "import matplotlib.pyplot as plt\n",
    "import matplotlib.tri as tri\n",
    "\n",
    "\n",
    "def polygon_mesh(s=4, n=3, r=1):\n",
    "    \"\"\"\n",
    "    Paramters:\n",
    "        * s: subdivision depth\n",
    "        * n: number of sides of the polygon\n",
    "        * r: radius of the polygon, i.e. distance between \n",
    "             center of the polygon to one of the verticies\n",
    "       \n",
    "    Return:\n",
    "        * vertices: vertices of the polygon\n",
    "        * triangle: triangulated version of the polygon \n",
    "            (matplotlib.tri.triangulation.Triangulation)\n",
    "        * trimesh: triangle mesh version of the polygon\n",
    "            (matplotlib.tri.triangulation.Triangulation)\n",
    "    \"\"\"\n",
    "    vertices = np.c_[r * np.cos(2 * np.pi * np.arange(1, n+1) / n  - (np.pi/2-np.pi/n)), \n",
    "                     r * np.sin(2 * np.pi * np.arange(1, n+1) / n  - (np.pi/2-np.pi/n))]\n",
    "    if n>3: # add the center to triangulation\n",
    "        vertices = np.vstack([vertices, vertices.mean(axis=0)])\n",
    "\n",
    "    triangle = tri.Triangulation(vertices[:, 0], vertices[:, 1])\n",
    "    refiner = tri.UniformTriRefiner(triangle)\n",
    "    trimesh = refiner.refine_triangulation(subdiv=s if n>3 else s+1)\n",
    "    \n",
    "    return vertices, triangle, trimesh\n",
    "\n",
    "vertices, triangle, trimesh = polygon_mesh(s=4, n=3, r=1)\n",
    "\n",
    "plt.figure(figsize=(8, 4))\n",
    "for (i, mesh) in enumerate((triangle, trimesh)):\n",
    "    plt.subplot(1, 2, i+ 1)\n",
    "    plt.triplot(mesh)\n",
    "    plt.axis('off')\n",
    "    plt.axis('equal')"
   ]
  },
  {
   "cell_type": "markdown",
   "metadata": {},
   "source": [
    "## Converting to Barycenter coordinates\n",
    "\n",
    "The barycentric coordinates $\\Lambda = [\\lambda_1, \\lambda_2, \\lambda_3]$ and the Cartesian coordinates $[X, Y]$ have the following relationships.\n",
    "\n",
    "$$\\begin{bmatrix} \\lambda_1 & \\lambda_2 & \\lambda_3 \\end{bmatrix} \\cdot \\begin{bmatrix} x_1 & y_1 & 1 \\\\x_2 & y_2 & 1 \\\\ x_3 & y_3 & 1\\end{bmatrix} =\\begin{bmatrix} \\lambda_1  x_1 + \\lambda_2 x_2 + \\lambda_3 x_3\\\\\n",
    "\\lambda_1  y_1 + \\lambda_2 y_2 + \\lambda_3 y_3\\\\ \\lambda_1 + \\lambda_2 + \\lambda_3 \\end{bmatrix}^T\n",
    "= \\begin{bmatrix} X \\\\ Y \\\\ 1 \\end{bmatrix}^T$$\n",
    "\n",
    "where $[(x_1, y_1), (x_2, y_2), (x_3, y_3)]$ are the Cartesian vertices of the simplex."
   ]
  },
  {
   "cell_type": "code",
   "execution_count": 2,
   "metadata": {
    "ExecuteTime": {
     "end_time": "2021-04-25T05:31:07.804512Z",
     "start_time": "2021-04-25T05:31:07.792070Z"
    },
    "code_folding": []
   },
   "outputs": [],
   "source": [
    "def barycentric_coordinates_simplex(vertices, points):\n",
    "    \"\"\"\n",
    "    Convert a set of Cartesian points into barycentric\n",
    "    coordinates given the vertices of the simplex.\n",
    "    \n",
    "    Use the relationship:\n",
    "                      [[x1, y1, 1],     \n",
    "      [λ1, λ2, λ3] *   [x2, y2, 1],  = [X, Y, 1]\n",
    "                       [x3, y3, 1]]\n",
    "                       \n",
    "    where \n",
    "    λ are Barycentric coorinates, \n",
    "    x1, y1, ... etc. are vertices, and \n",
    "    X, Y are Cartesian points\n",
    "    \n",
    "    This function can solve multi-dimensional simplex barycentric coordinates.\n",
    "    \"\"\"\n",
    "    # Make the vertice matrix\n",
    "    T = np.hstack([vertices, np.ones((3, 1))])\n",
    "    if len(points.shape) < 2:\n",
    "        points = points[np.newaxis, :]\n",
    "    P = np.hstack([points, np.ones((points.shape[0], 1))])\n",
    "    Lambdas = np.matmul(P, np.linalg.inv(T))\n",
    "    if points.shape[0]<2:\n",
    "        Lambdas = Lambdas[0]\n",
    "    return Lambdas    \n",
    "\n",
    "\n",
    "def barycentric_coordinates_simplex2(vertices, points):\n",
    "    \"\"\"\n",
    "    Convert a set of Cartesian points into barycentric\n",
    "    coordinates given the vertices of the simplex.\n",
    "    \n",
    "    Use the relationship:\n",
    "                [[x1-x3, y1-y3],     \n",
    "      [λ1, λ2] * [x2-x3, y2-y3]] = [X-x3, Y-y3]\n",
    "                       \n",
    "       λ3 = 1 - λ1 - λ2\n",
    "                       \n",
    "    where \n",
    "    λ are Barycentric coorinates, \n",
    "    x1, y1, ... etc. are vertices, and \n",
    "    X, Y are Cartesian points\n",
    "    \n",
    "    This function can solve multi-dimensional simplex barycentric coordinates.\n",
    "    \"\"\"\n",
    "    T = vertices[:-1, :] - vertices[-1:None, :]\n",
    "    if len(points.shape) < 2:\n",
    "        points = points[np.newaxis, :]\n",
    "    P = points - vertices[-1:None, :]\n",
    "    Lambdas = np.matmul(P, np.linalg.inv(T))\n",
    "    # Calculate the last lambda\n",
    "    Lambdas = np.hstack([Lambdas, 1-np.sum(Lambdas, axis=1, keepdims=True)])\n",
    "    if points.shape[0]<2:\n",
    "        Lambdas = Lambdas[0]\n",
    "    return Lambdas\n",
    "    "
   ]
  },
  {
   "cell_type": "code",
   "execution_count": 3,
   "metadata": {
    "ExecuteTime": {
     "end_time": "2021-04-25T05:31:07.823209Z",
     "start_time": "2021-04-25T05:31:07.812510Z"
    }
   },
   "outputs": [
    {
     "name": "stdout",
     "output_type": "stream",
     "text": [
      "[0.46666667 0.20893164 0.32440169]\n",
      "[0.46666667 0.20893164 0.32440169]\n"
     ]
    }
   ],
   "source": [
    "points = np.array([0.1, 0.2])\n",
    "print(barycentric_coordinates_simplex(vertices, points))\n",
    "print(barycentric_coordinates_simplex2(vertices, points))"
   ]
  },
  {
   "cell_type": "markdown",
   "metadata": {},
   "source": [
    "## Calculate Dirichlet PDF"
   ]
  },
  {
   "cell_type": "code",
   "execution_count": 4,
   "metadata": {
    "ExecuteTime": {
     "end_time": "2021-04-25T05:31:07.839363Z",
     "start_time": "2021-04-25T05:31:07.829846Z"
    }
   },
   "outputs": [
    {
     "data": {
      "text/plain": [
       "2.220446049250313e-16"
      ]
     },
     "execution_count": 4,
     "metadata": {},
     "output_type": "execute_result"
    }
   ],
   "source": [
    "np.finfo(float).eps"
   ]
  },
  {
   "cell_type": "code",
   "execution_count": 5,
   "metadata": {
    "ExecuteTime": {
     "end_time": "2021-04-25T05:31:08.095191Z",
     "start_time": "2021-04-25T05:31:07.844506Z"
    }
   },
   "outputs": [
    {
     "data": {
      "text/plain": [
       "0.5556159521906762"
      ]
     },
     "execution_count": 5,
     "metadata": {},
     "output_type": "execute_result"
    }
   ],
   "source": [
    "from scipy.special import gamma as gamma_func\n",
    "def dirichlet_pdf(alpha, x, eps=1E-12):\n",
    "    \"\"\"\n",
    "    alpha: array of Dirichlet alpha parameter\n",
    "    x: array of the support of Dirichlet\n",
    "    \"\"\"\n",
    "    alpha , x = np.array(alpha), np.atleast_2d(np.array(x))\n",
    "    x = np.clip(x, eps, 1-eps) # avoid cases like [1, 0, 0]\n",
    "    x = x / np.sum(x, axis=1, keepdims=True)\n",
    "    assert alpha.shape[0] == x.shape[-1]\n",
    "    coef = gamma_func(np.sum(alpha)) / np.prod(gamma_func(alpha))\n",
    "    pdf = coef * np.prod(np.power(x, alpha-1), axis=1)\n",
    "    if len(pdf) < 2:\n",
    "        pdf = pdf[0]\n",
    "    \n",
    "    return pdf\n",
    "\n",
    "dirichlet_pdf([0.3, 0.5, 0.3], [0.2,0.4,0.4])"
   ]
  },
  {
   "cell_type": "markdown",
   "metadata": {},
   "source": [
    "## Make the plots"
   ]
  },
  {
   "cell_type": "code",
   "execution_count": 6,
   "metadata": {
    "ExecuteTime": {
     "end_time": "2021-04-25T05:31:09.609096Z",
     "start_time": "2021-04-25T05:31:08.104490Z"
    }
   },
   "outputs": [
    {
     "data": {
      "image/png": "[encoded data removed]",
      "text/plain": [
       "<Figure size 432x288 with 1 Axes>"
      ]
     },
     "metadata": {
      "needs_background": "light"
     },
     "output_type": "display_data"
    }
   ],
   "source": [
    "def plot_dirichlet_contour(alpha=np.array([1, 1, 1]), nlevels=200, resolution=8, cmap='jet', **kwargs):\n",
    "    # Make the polygon\n",
    "    vertices, _, trimesh = polygon_mesh(s=resolution, n=3, r=1)\n",
    "    # Convert to Barycentric coordinates\n",
    "    points = np.c_[trimesh.x, trimesh.y]\n",
    "    shifts = np.min(vertices, axis=0)\n",
    "    points = points - shifts\n",
    "    vertices = vertices - shifts\n",
    "    bary_coord = barycentric_coordinates_simplex(vertices, points)\n",
    "    # Calculate Dirichlet pdf\n",
    "    pvals = dirichlet_pdf(alpha, bary_coord)\n",
    "\n",
    "    # Make the plot\n",
    "    plt.tricontourf(trimesh, pvals, nlevels, cmap=cmap, **kwargs)\n",
    "    plt.gca().text(vertices[0,0]+shifts[0], vertices[0, 1]+shifts[1], \"1\", ha='center', va='bottom')\n",
    "    plt.gca().text(vertices[1,0]+shifts[0], vertices[1, 1]+shifts[1], \"2\", ha='right', va='center')\n",
    "    plt.gca().text(vertices[2,0]+shifts[0], vertices[2, 1]+shifts[1], \"3\", ha='left', va='center')\n",
    "\n",
    "    plt.axis('equal')\n",
    "    plt.axis('off')\n",
    "    \n",
    "plot_dirichlet_contour([1,2,3])"
   ]
  },
  {
   "cell_type": "markdown",
   "metadata": {},
   "source": [
    "# Barycentric Coordinates of Convex N polygon\n",
    "\n",
    "\n",
    "## Wachpress Coordinates\n",
    "[Generalized Barycentric Coordinates on Irregular Polygons](http://www.geometry.caltech.edu/pubs/MHBD02.pdf)\n",
    "\n",
    "Which is a form of Wachpress coordinates (see [Generalized barycentric coordinates and applications](https://www.mn.uio.no/math/english/people/aca/michaelf/papers/gbc.pdf))"
   ]
  },
  {
   "cell_type": "code",
   "execution_count": 7,
   "metadata": {
    "ExecuteTime": {
     "end_time": "2021-04-25T05:31:09.636586Z",
     "start_time": "2021-04-25T05:31:09.612782Z"
    }
   },
   "outputs": [
    {
     "name": "stdout",
     "output_type": "stream",
     "text": [
      "[[0.46666667 0.09346159 0.43987175]\n",
      " [0.46666667 0.20893164 0.32440169]]\n",
      "[[0.46666494 0.09346172 0.43987335]\n",
      " [0.466666   0.20893176 0.32440224]]\n"
     ]
    }
   ],
   "source": [
    "def cotangent(a, b, c):\n",
    "    \"\"\"\n",
    "    Compute cotagent of non-degenerate triangle abc at vertex b\n",
    "    Point a can be a m x 2 matrix\n",
    "    \"\"\"\n",
    "    ba = a - b # m x 2 matrix\n",
    "    bc = c - b # 1 x 2 vector\n",
    "    return np.dot(ba, bc) / np.abs(np.cross(ba, bc)+1E-6) # 1 x m vector\n",
    "    \n",
    "\n",
    "def barycentric_coordinates_n_polygon(vertices, points):\n",
    "    \"\"\"\n",
    "    Compute the barycentric weights for a set of points in an N polygon\n",
    "    Assume all the points are strictly within the polygon \n",
    "    and the vertices are ordered. Uses Wachpress coordinates.\n",
    "    \n",
    "    Reference: Generalized Barycentric Coordinates on Irregular Polygons\n",
    "    http://www.geometry.caltech.edu/pubs/MHBD02.pdf\n",
    "\n",
    "    For a single point \"p\", the algorithm is:\n",
    "    \n",
    "    cotangent = lambda a, b, c: np.dot(c-b, a-b) / np.sum((np.cross(c-b, a-b))**2)\n",
    "    \n",
    "    n = vertices.shape[0] # number of sides / vertices in the polygon\n",
    "    w = np.empty(n)\n",
    "    for j, q_j in enumerate(vertices):\n",
    "        prev_index = (j+n-1) % n\n",
    "        next_index = (j+1) % n\n",
    "        w[j] = (cotangent(p, q_j, vertices[prev_index]) + \\\n",
    "                cotangent(p, q_j, vertices[next_index])) / \\\n",
    "                np.sum((p - q_j)**2)\n",
    "        \n",
    "    w = w / np.sum(w)\n",
    "    \n",
    "    return w\n",
    "    \"\"\"\n",
    "    if len(points.shape) < 2:\n",
    "        points = points[np.newaxis, :]\n",
    "    n = vertices.shape[0] # number of sides / vertices in the polygon\n",
    "    m = points.shape[0] # number of points\n",
    "    w = np.empty((m, n)) # m points, n vertices\n",
    "    for j, q_j in enumerate(vertices):\n",
    "        prev_index = (j+n-1) % n\n",
    "        next_index = (j+1) % n\n",
    "        w[:, j] = (cotangent(points, q_j, vertices[prev_index]) + \\\n",
    "                   cotangent(points, q_j, vertices[next_index])) / \\\n",
    "                   np.sum((points - q_j)**2+1E-6, axis=1)\n",
    "        \n",
    "    # Normalize weights\n",
    "    w = w / np.sum(w, axis=1, keepdims=True)\n",
    "    \n",
    "    if w.shape[0] < 2:\n",
    "        w = w[0]\n",
    "    \n",
    "    return w\n",
    "\n",
    "vertices, _, trimesh = polygon_mesh(s=4, n=3, r=1)\n",
    "points = np.array([[0.3, 0.2], [0.1, 0.2]])\n",
    "print(barycentric_coordinates_simplex(vertices, points))\n",
    "print(barycentric_coordinates_n_polygon(vertices, points))"
   ]
  },
  {
   "cell_type": "code",
   "execution_count": 8,
   "metadata": {
    "ExecuteTime": {
     "end_time": "2021-04-25T05:31:11.122746Z",
     "start_time": "2021-04-25T05:31:09.644490Z"
    },
    "scrolled": false
   },
   "outputs": [
    {
     "data": {
      "image/png": "[encoded data removed]",
      "text/plain": [
       "<Figure size 432x288 with 1 Axes>"
      ]
     },
     "metadata": {
      "needs_background": "light"
     },
     "output_type": "display_data"
    }
   ],
   "source": [
    "def plot_dirichlet_contour_n_poly(alpha=np.array([1, 1, 1]), nlevels=200, resolution=8, cmap='jet', **kwargs):\n",
    "    # Make the polygon\n",
    "    vertices, _, trimesh = polygon_mesh(s=resolution, n=len(alpha), r=1)\n",
    "    if vertices.shape[0]>3: # for polygons greater than 3\n",
    "        center, vertices = vertices[-1, :], vertices[:-1, :]\n",
    "    else:\n",
    "        center = np.mean(vertices, axis=0)\n",
    "    # Convert to Barycentric coordinates\n",
    "    points = np.c_[trimesh.x, trimesh.y]\n",
    "    shifts = np.min(vertices, axis=0)\n",
    "    points = points - shifts\n",
    "    offsets = (vertices - center) * 0.05\n",
    "    vertices = vertices - shifts\n",
    "    bary_coord = barycentric_coordinates_n_polygon(vertices, points)\n",
    "    #bary_coord[~np.isfinite(bary_coord)] = 0\n",
    "    # Calculate Dirichlet pdf\n",
    "    pvals = dirichlet_pdf(alpha, bary_coord)\n",
    "\n",
    "    # Make the plot\n",
    "    plt.tricontourf(trimesh, pvals, nlevels, cmap=cmap, **kwargs)\n",
    "    \n",
    "    # Label the vertices\n",
    "    for i in range(vertices.shape[0]):\n",
    "        plt.gca().text(vertices[i,0]+shifts[0]+offsets[i, 0], vertices[i, 1]+shifts[1]+offsets[i, 1], \n",
    "                       \"{:d}\".format(i+1), ha='center', va='center')\n",
    "    \n",
    "    plt.axis('equal')\n",
    "    plt.axis('off')\n",
    "\n",
    "alpha = np.array([2, 5, 15, 25])\n",
    "plot_dirichlet_contour_n_poly(alpha)"
   ]
  },
  {
   "cell_type": "markdown",
   "metadata": {},
   "source": [
    "## Global form of Wachpress Coordinates\n",
    "\n",
    "Notice the results are closer to that of Simplex form"
   ]
  },
  {
   "cell_type": "code",
   "execution_count": 9,
   "metadata": {
    "ExecuteTime": {
     "end_time": "2021-04-25T05:31:11.155129Z",
     "start_time": "2021-04-25T05:31:11.128878Z"
    }
   },
   "outputs": [
    {
     "name": "stdout",
     "output_type": "stream",
     "text": [
      "[[0.46666667 0.09346159 0.43987175]\n",
      " [0.46666667 0.20893164 0.32440169]\n",
      " [0.46666667 0.09346159 0.43987175]\n",
      " [0.4        0.24226497 0.35773503]\n",
      " [0.46666667 0.15119661 0.38213672]\n",
      " [0.13333333 0.54880339 0.31786328]]\n",
      "[[0.46666494 0.09346172 0.43987335]\n",
      " [0.466666   0.20893176 0.32440224]\n",
      " [0.46666494 0.09346172 0.43987335]\n",
      " [0.39999963 0.24226508 0.35773529]\n",
      " [0.46666565 0.15119677 0.38213758]\n",
      " [0.1333336  0.54880359 0.31786281]]\n",
      "[[0.46666667 0.09346159 0.43987175]\n",
      " [0.46666667 0.20893164 0.32440169]\n",
      " [0.46666667 0.09346159 0.43987175]\n",
      " [0.4        0.24226497 0.35773503]\n",
      " [0.46666667 0.15119661 0.38213672]\n",
      " [0.13333333 0.54880339 0.31786328]]\n"
     ]
    }
   ],
   "source": [
    "def calculate_area(a, b, c):\n",
    "    \"\"\"\n",
    "    Calculate area of a triangle given the 3 vertices\n",
    "    Points a,b,c can be either m x 2 matrix or 1 x 2 vectors\n",
    "    \"\"\"\n",
    "    ba = a - b # m x 2\n",
    "    bc = c - b # 1 x 2\n",
    "    # ignore that constant 1/2, \n",
    "    # as it would be normalized out anyway\n",
    "    return np.cross(bc, ba) \n",
    "    \n",
    "def barycentric_coordinates_n_polygon_global(vertices, points):\n",
    "    \"\"\"\n",
    "    Compute the barycentric weights for a set of points in an N polygon\n",
    "    Assume all the points are strictly within the polygon \n",
    "    and the vertices are ordered. Uses Wachpress Coordinates Global Form, \n",
    "    where the coordinates is valid on the edge. Although it is\n",
    "    more general, the form would require larger calculation when N is large.\n",
    "    \n",
    "    Reference: Generalized barycentric coordinates and applications\n",
    "    https://www.mn.uio.no/math/english/people/aca/michaelf/papers/gbc.pdf\n",
    "    \"\"\"\n",
    "    if len(points.shape) < 2:\n",
    "        points = points[np.newaxis, :]\n",
    "    n = vertices.shape[0] # number of sides / vertices in the polygon\n",
    "    m = points.shape[0] # number of points\n",
    "    w = np.empty((m, n)) # m points, n vertices\n",
    "    vertices_prev = np.concatenate([vertices[-1:None, :], vertices[:-1, :]], axis=0)\n",
    "    vertices_next = np.concatenate([vertices[1:, :], vertices[0:1, :]], axis=0)\n",
    "    # area of x, v_i, v_i+1\n",
    "    A = np.array([list(calculate_area(points, vertices[i], vertices_next[i])) for i in range(n)]).T\n",
    "    # area of v_i-1, v_i, v_i+1\n",
    "    C = calculate_area(vertices_prev, vertices, vertices_next)\n",
    "    for j, q_j in enumerate(vertices):\n",
    "        prev_index = (j+n-1) % n\n",
    "        next_index = (j+1) % n\n",
    "        w[:, j] = C[j] * np.prod(A[:, np.setdiff1d(np.arange(n), [prev_index, j])], axis=1)\n",
    "        \n",
    "    # Normalize weights\n",
    "    w = w / np.sum(w, axis=1, keepdims=True)\n",
    "    \n",
    "    if w.shape[0] < 2:\n",
    "        w = w[0]\n",
    "    \n",
    "    return w\n",
    "\n",
    "vertices, _, trimesh = polygon_mesh(s=4, n=3, r=1)\n",
    "points = np.array([[0.3, 0.2], [0.1, 0.2], [0.3, 0.2], [0.1, 0.1], [0.2, 0.2], [-0.2, -0.3]])\n",
    "print(barycentric_coordinates_simplex(vertices, points))\n",
    "print(barycentric_coordinates_n_polygon(vertices, points))\n",
    "print(barycentric_coordinates_n_polygon_global(vertices, points))"
   ]
  },
  {
   "cell_type": "markdown",
   "metadata": {},
   "source": [
    "# Barycentric Coordinates of Arbitrary Polygon\n",
    "\n",
    "\n",
    "## Mean Value Coordinates\n",
    "Use Mean Value Coordinates (see [Generalized barycentric coordinates and applications](https://www.mn.uio.no/math/english/people/aca/michaelf/papers/gbc.pdf)), which applies to any arbitrary polygons, including star shaped."
   ]
  },
  {
   "cell_type": "code",
   "execution_count": 10,
   "metadata": {
    "ExecuteTime": {
     "end_time": "2021-04-25T05:31:11.204872Z",
     "start_time": "2021-04-25T05:31:11.158599Z"
    }
   },
   "outputs": [
    {
     "name": "stdout",
     "output_type": "stream",
     "text": [
      "[[0.46666667 0.09346159 0.43987175]\n",
      " [0.46666667 0.20893164 0.32440169]]\n",
      "[[0.46666494 0.09346172 0.43987335]\n",
      " [0.466666   0.20893176 0.32440224]]\n",
      "[[0.46666672 0.09346142 0.43987186]\n",
      " [0.46666656 0.20893165 0.32440179]]\n"
     ]
    }
   ],
   "source": [
    "def tangenthalf(a, b, c):\n",
    "    \"\"\"\n",
    "    Compute tan(α/2) of non-degenerate triangle abc at vertex b\n",
    "    Using the relation tan(α/2) = (1-cos(α)) / sin(α)\n",
    "    Point b can be a m x 2 matrix\n",
    "    \"\"\"\n",
    "    ba = a - b # m x 2 \n",
    "    bc = c - b # m x 2\n",
    "    denom = np.sqrt(np.sum(ba**2, axis=1) * np.sum(bc**2, axis=1) ) # m x 1\n",
    "    cosalpha  = np.einsum('ij,ij->i', ba, bc) \n",
    "    sinalpha  = np.cross(bc, ba) + 1E-6\n",
    "    return (denom - cosalpha) / sinalpha\n",
    "    \n",
    "\n",
    "def barycentric_coordinates_arbitrary_n_polygon(vertices, points):\n",
    "    \"\"\"\n",
    "    Compute the barycentric weights for a set of points in an N polygon\n",
    "    Assume all the points are strictly within the polygon \n",
    "    and the vertices are ordered\n",
    "    \n",
    "    Reference: Generalized barycentric coordinates and applications\n",
    "    https://www.mn.uio.no/math/english/people/aca/michaelf/papers/gbc.pdf    \n",
    "    \"\"\"\n",
    "    if len(points.shape) < 2:\n",
    "        points = points[np.newaxis, :]\n",
    "    n = vertices.shape[0] # number of sides / vertices in the polygon\n",
    "    m = points.shape[0] # number of points\n",
    "    w = np.empty((m, n)) # m points, n vertices\n",
    "    for i, v_i in enumerate(vertices):\n",
    "        prev_index = (i+n-1) % n\n",
    "        next_index = (i+1) % n\n",
    "        w[:, i] = (tangenthalf(vertices[prev_index], points, v_i) \\\n",
    "                  + tangenthalf(v_i, points, vertices[next_index])) \\\n",
    "                  / np.sqrt(np.sum((points - v_i)**2+1E-6, axis=1))\n",
    "        \n",
    "    # Normalize weights\n",
    "    w = w / np.sum(w, axis=1, keepdims=True)\n",
    "    \n",
    "    if w.shape[0] < 2:\n",
    "        w = w[0]\n",
    "    \n",
    "    return w\n",
    "\n",
    "vertices, _, trimesh = polygon_mesh(s=4, n=3, r=1)\n",
    "points = np.array([[0.3, 0.2], [0.1, 0.2]])\n",
    "print(barycentric_coordinates_simplex(vertices, points))\n",
    "print(barycentric_coordinates_n_polygon(vertices, points))\n",
    "print(barycentric_coordinates_arbitrary_n_polygon(vertices, points))"
   ]
  },
  {
   "cell_type": "code",
   "execution_count": 11,
   "metadata": {
    "ExecuteTime": {
     "end_time": "2021-04-25T05:31:12.634362Z",
     "start_time": "2021-04-25T05:31:11.210122Z"
    }
   },
   "outputs": [
    {
     "data": {
      "image/png": "[encoded data removed]",
      "text/plain": [
       "<Figure size 432x288 with 1 Axes>"
      ]
     },
     "metadata": {
      "needs_background": "light"
     },
     "output_type": "display_data"
    }
   ],
   "source": [
    "def plot_dirichlet_contour_arbitrary_n_poly(alpha=np.array([1, 1, 1]), nlevels=200, resolution=8, cmap='jet', **kwargs):\n",
    "    # Make the polygon\n",
    "    vertices, _, trimesh = polygon_mesh(s=resolution, n=len(alpha), r=1)\n",
    "    if vertices.shape[0]>3: # for polygons greater than 3\n",
    "        center, vertices = vertices[-1, :], vertices[:-1, :]\n",
    "    else:\n",
    "        center = np.mean(vertices, axis=0)\n",
    "    # Convert to Barycentric coordinates\n",
    "    points = np.c_[trimesh.x, trimesh.y]\n",
    "    shifts = np.min(vertices, axis=0)\n",
    "    points = points - shifts\n",
    "    offsets = (vertices - center) * 0.05\n",
    "    vertices = vertices - shifts\n",
    "    bary_coord = barycentric_coordinates_arbitrary_n_polygon(vertices, points)\n",
    "    #bary_coord[~np.isfinite(bary_coord)] = 0\n",
    "    # Calculate Dirichlet pdf\n",
    "    pvals = dirichlet_pdf(alpha, bary_coord)\n",
    "\n",
    "    # Make the plot\n",
    "    plt.tricontourf(trimesh, pvals, nlevels, cmap=cmap, **kwargs)\n",
    "    \n",
    "    # Label the vertices\n",
    "    for i in range(vertices.shape[0]):\n",
    "        plt.gca().text(vertices[i,0]+shifts[0]+offsets[i, 0], vertices[i, 1]+shifts[1]+offsets[i, 1], \n",
    "                       \"{:d}\".format(i+1), ha='center', va='center')\n",
    "    \n",
    "    plt.axis('equal')\n",
    "    plt.axis('off')\n",
    "\n",
    "alpha = np.array([2, 5, 15, 25])\n",
    "plot_dirichlet_contour_arbitrary_n_poly(alpha)"
   ]
  },
  {
   "cell_type": "markdown",
   "metadata": {},
   "source": [
    "## Global form of Mean Value Coordinates\n",
    "\n",
    "Notice the results are closer to that of Simplex form"
   ]
  },
  {
   "cell_type": "code",
   "execution_count": 12,
   "metadata": {
    "ExecuteTime": {
     "end_time": "2021-04-25T05:31:12.667812Z",
     "start_time": "2021-04-25T05:31:12.638219Z"
    },
    "hide_input": false
   },
   "outputs": [
    {
     "name": "stdout",
     "output_type": "stream",
     "text": [
      "[[0.46666667 0.09346159 0.43987175]\n",
      " [0.46666667 0.20893164 0.32440169]\n",
      " [0.46666667 0.09346159 0.43987175]\n",
      " [0.4        0.24226497 0.35773503]\n",
      " [0.46666667 0.15119661 0.38213672]\n",
      " [0.13333333 0.54880339 0.31786328]]\n",
      "[[0.46666494 0.09346172 0.43987335]\n",
      " [0.466666   0.20893176 0.32440224]\n",
      " [0.46666494 0.09346172 0.43987335]\n",
      " [0.39999963 0.24226508 0.35773529]\n",
      " [0.46666565 0.15119677 0.38213758]\n",
      " [0.1333336  0.54880359 0.31786281]]\n",
      "[[0.46666667 0.09346159 0.43987175]\n",
      " [0.46666667 0.20893164 0.32440169]\n",
      " [0.46666667 0.09346159 0.43987175]\n",
      " [0.4        0.24226497 0.35773503]\n",
      " [0.46666667 0.15119661 0.38213672]\n",
      " [0.13333333 0.54880339 0.31786328]]\n"
     ]
    }
   ],
   "source": [
    "def barycentric_coordinates_arbitrary_n_polygon_global(vertices, points):\n",
    "    \"\"\"\n",
    "    Compute the barycentric weights for a set of points in an N polygon\n",
    "    Assume all the points are strictly within the polygon \n",
    "    and the vertices are ordered. Uses Mean Value Coordinates Global Form,\n",
    "    where the coordinates is valid on the edge. Although it is\n",
    "    more general, the form would require larger calculation when N is large.\n",
    "    \n",
    "    Reference: Generalized barycentric coordinates and applications\n",
    "    https://www.mn.uio.no/math/english/people/aca/michaelf/papers/gbc.pdf    \n",
    "    \"\"\"\n",
    "    if len(points.shape) < 2:\n",
    "        points = points[np.newaxis, :]\n",
    "    n = vertices.shape[0] # number of sides / vertices in the polygon\n",
    "    m = points.shape[0] # number of points\n",
    "    w = np.empty((m, n)) # m points, n vertices\n",
    "    d = vertices.T[np.newaxis, :, :] - points[:, :, np.newaxis] # points(m) x xy_coords(2) x vertices(n)\n",
    "    r = np.sqrt(d[:, 0, :]**2 + d[:, 1, :]**2) # points (m) x vertices (n)\n",
    "    # points (m) x vertices (n) \n",
    "    r_d_vec = r * np.concatenate([r[:, 1:], r[:, 0:1]], axis=1) \\\n",
    "                + np.sum(d * np.concatenate([d[:, :, 1:], d[:, :, 0:1]], axis=2), axis=1)\n",
    "    for i in range(n):\n",
    "        prev_index = (i+n-1) % n\n",
    "        next_index = (i+1) % n\n",
    "        w[:, i] = (r[:, prev_index] * r[:, next_index] \\\n",
    "                                    - np.einsum('ij,ij->i', d[:, :, prev_index], d[:, :, next_index])) \\\n",
    "                   * np.prod(r_d_vec[:, np.setdiff1d(np.arange(n), [prev_index, i])], axis=1)\n",
    "        \n",
    "    # Normalize weights\n",
    "    w = np.sqrt(w)\n",
    "    w = w / np.sum(w, axis=1, keepdims=True)\n",
    "    \n",
    "    if w.shape[0] < 2:\n",
    "        w = w[0]\n",
    "    \n",
    "    return w\n",
    "\n",
    "vertices, _, trimesh = polygon_mesh(s=4, n=3, r=1)\n",
    "points = np.array([[0.3, 0.2], [0.1, 0.2], [0.3, 0.2], [0.1, 0.1], [0.2, 0.2], [-0.2, -0.3]])\n",
    "print(barycentric_coordinates_simplex(vertices, points))\n",
    "print(barycentric_coordinates_n_polygon(vertices, points))\n",
    "print(barycentric_coordinates_arbitrary_n_polygon_global(vertices, points))"
   ]
  },
  {
   "cell_type": "markdown",
   "metadata": {},
   "source": [
    "# Visualizing a high dimensional probability distribution on a polygon\n",
    "\n",
    "In the previous sections, we visualized Dirichlet distribution by converting Cartesian coordinates into barycentric coordinates (i.e. the supports of categorical / multinomial distribution), and calculated the corresponding PDF of the supports. The goal in this section is reversed, where we are given the supports of the categorical / multinomial distribution (i.e. barycentric coordinates), we want to convert back to Cartesian coordinates to be visualized on the given polygon. This is again using the relationship between Barycentric and Cartesian coordinates defined above, i.e.\n",
    "\n",
    "$$\\Lambda \\cdot V = \\begin{bmatrix} \\lambda_1 & \\lambda_2 & \\lambda_3 & ...\\end{bmatrix} \\cdot \\begin{bmatrix} x_1 & y_1 \\\\x_2 & y_2 \\\\ x_3 & y_3 \\\\ \\vdots  & \\vdots \\end{bmatrix} = \\begin{bmatrix} X & Y \\end{bmatrix}$$"
   ]
  },
  {
   "cell_type": "code",
   "execution_count": 368,
   "metadata": {
    "ExecuteTime": {
     "end_time": "2021-04-25T21:37:09.543764Z",
     "start_time": "2021-04-25T21:37:09.314565Z"
    }
   },
   "outputs": [
    {
     "data": {
      "image/png": "[encoded data removed]",
      "text/plain": [
       "<Figure size 432x288 with 1 Axes>"
      ]
     },
     "metadata": {
      "needs_background": "light"
     },
     "output_type": "display_data"
    }
   ],
   "source": [
    "%matplotlib inline\n",
    "import numpy as np\n",
    "import matplotlib.pyplot as plt\n",
    "\n",
    "def proba2cartesian(proba, r=1.0):\n",
    "    \"\"\"\n",
    "    Convert a multinomial probability distributions into a 2D Cartesian coordinate\n",
    "    \n",
    "    Parameters:\n",
    "    --------\n",
    "    * proba: np.ndarray\n",
    "        n x k matrix of probability distributions, whose row must sum to 1.\n",
    "    * r : float, optional.\n",
    "        Radius of the regular polygon. The default is 1.0.\n",
    "    Returns:\n",
    "    --------\n",
    "    * points: np.ndarray\n",
    "        n x 2 Cartesian coordinates (x, y) corresponding to each probability distribution\n",
    "    * vertices: np.ndarray\n",
    "        k x 2 Cartesian coordinates of the vertices of regular polygon.\n",
    "    \n",
    "    \"\"\"\n",
    "    proba = np.atleast_2d(proba)\n",
    "    # Get the vertices of the regular polygon\n",
    "    n = proba.shape[1]\n",
    "    vertices = np.c_[r * np.cos(2 * np.pi * np.arange(1, n+1) / n  - (np.pi / 2 - np.pi / n)), \n",
    "                     r * np.sin(2 * np.pi * np.arange(1, n+1) / n  - (np.pi / 2 - np.pi / n))]\n",
    "    # Convert probabilities (as Barycentric) into Cartesian\n",
    "    points = proba @ vertices\n",
    "    \n",
    "    return points, vertices\n",
    "\n",
    "def plot_proba(points, vertices, ax=None, label_offset=1.08, show_label=True):\n",
    "    \"\"\"Plot the probabilities on the polygon.\"\"\"\n",
    "    # Make the plot\n",
    "    if ax is None:\n",
    "        fig, ax = plt.subplots(1, 1)\n",
    "    # Plot the scatter of the probability distributions\n",
    "    ax.scatter(points[:, 0], points[:, 1], s=5, color=\"#ff7f0e\")\n",
    "\n",
    "    # Plot the polygon\n",
    "    polygon = np.r_[vertices, vertices[0:1, :]]\n",
    "    ax.plot(polygon[:, 0], polygon[:, 1], color=\"#1f77b4\")\n",
    "\n",
    "    # Make labels on the vertices\n",
    "    if show_label:\n",
    "        labels = label_offset * vertices\n",
    "        for i in range(vertices.shape[0]):\n",
    "            ax.text(labels[i, 0], labels[i, 1], f\"{i+1:d}\", va=\"center\", ha=\"center\")\n",
    "        ax.set_aspect(\"equal\")\n",
    "        ax.axis(\"off\")\n",
    "    return ax\n",
    "    \n",
    "# Make the plot\n",
    "rs = np.random.RandomState(42)\n",
    "proba = rs.dirichlet(np.array([1, 1, 1, 1 , 1]), size=5000)\n",
    "points, vertices = proba2cartesian(proba, r=1)\n",
    "_ = plot_proba(points, vertices)"
   ]
  },
  {
   "cell_type": "code",
   "execution_count": 71,
   "metadata": {
    "ExecuteTime": {
     "end_time": "2021-04-25T06:50:58.402233Z",
     "start_time": "2021-04-25T06:50:58.204161Z"
    }
   },
   "outputs": [
    {
     "name": "stdout",
     "output_type": "stream",
     "text": [
      "computed:\t [0.47552826 0.6545085 ]\n",
      "vertex averaged: [0.47552826 0.6545085 ]\n"
     ]
    },
    {
     "data": {
      "image/png": "[encoded data removed]",
      "text/plain": [
       "<Figure size 432x288 with 1 Axes>"
      ]
     },
     "metadata": {
      "needs_background": "light"
     },
     "output_type": "display_data"
    }
   ],
   "source": [
    "def vector_norm(u, v, x):\n",
    "    \"\"\"\n",
    "    Get the point w on line made by (u, v) crossing point x\n",
    "    such that line made by (x, w) is perpendicular to line (u, v).\n",
    "    \n",
    "    https://stackoverflow.com/a/10303439\n",
    "    \"\"\"\n",
    "    t = np.dot(v-u,x-u)/np.dot(v-u,v-u)\n",
    "    return u + t * (v-u)\n",
    "\n",
    "fig, ax = plt.subplots(1, 1)\n",
    "r = 1\n",
    "n = 5\n",
    "vertices = np.c_[r * np.cos(2 * np.pi * np.arange(1, n+1) / n  - (np.pi / 2 - np.pi / n)), \n",
    "                     r * np.sin(2 * np.pi * np.arange(1, n+1) / n  - (np.pi / 2 - np.pi / n))]\n",
    "polygon = np.r_[vertices, vertices[0:1, :]]\n",
    "ax.plot(polygon[:, 0], polygon[:, 1], color=\"#1f77b4\")\n",
    "\n",
    "\n",
    "u, v, x = vertices[0, :], vertices[1, :], np.array([0, 0])\n",
    "vnorm = vector_norm(u, v, x)\n",
    "\n",
    "# For regular polygon centered around zero,\n",
    "# this vnorm point is simply the center of the line made by the vertices\n",
    "vnorm2 = vertices[:2, :].mean(axis=0)\n",
    "\n",
    "ax.plot([u[0], v[0]], [u[1], v[1]], c=\"r\")\n",
    "ax.plot([x[0], vnorm[0]], [x[1], vnorm[1]])\n",
    "ax.plot([0, vnorm2[0]], [0, vnorm2[1]], ls=\"--\", c=\"r\")\n",
    "\n",
    "\n",
    "labels = 1.08 * vertices\n",
    "for i in range(vertices.shape[0]):\n",
    "    ax.text(labels[i, 0], labels[i, 1], f\"{i+1:d}\", va=\"center\", ha=\"center\")\n",
    "ax.set_aspect(\"equal\")\n",
    "ax.axis(\"off\")\n",
    "\n",
    "print(\"computed:\\t\", vnorm)\n",
    "print(\"vertex averaged:\", vnorm2)"
   ]
  },
  {
   "cell_type": "markdown",
   "metadata": {},
   "source": [
    "## Compare distance on the polyon vs. JS Entropy"
   ]
  },
  {
   "cell_type": "code",
   "execution_count": 356,
   "metadata": {
    "ExecuteTime": {
     "end_time": "2021-04-25T21:35:01.295019Z",
     "start_time": "2021-04-25T21:35:01.288658Z"
    }
   },
   "outputs": [],
   "source": [
    "def js_entropy(p, q):\n",
    "    eps = 1E-12\n",
    "    p = np.clip(p, eps, 1.0 - eps)\n",
    "    q = np.clip(q, eps, 1.0 - eps)\n",
    "    return np.sum(p * np.log(p / q)) * 0.5 + np.sum(q * np.log(q / p)) * 0.5"
   ]
  },
  {
   "cell_type": "code",
   "execution_count": 21,
   "metadata": {
    "ExecuteTime": {
     "end_time": "2021-04-25T05:38:49.767110Z",
     "start_time": "2021-04-25T05:38:49.758947Z"
    }
   },
   "outputs": [],
   "source": [
    "def bary2cart(bary, corners=None):\n",
    "    '''\n",
    "    Convert barycentric coordinates to cartesian coordinates given the\n",
    "    cartesian coordinates of the corners.\n",
    "    Args:\n",
    "        bary (np.ndarray): barycentric coordinates to convert. If this matrix\n",
    "            has multiple rows, each row is interpreted as an individual\n",
    "            coordinate to convert.\n",
    "        corners (np.ndarray): cartesian coordinates of the corners.\n",
    "    Returns:\n",
    "        2-column np.ndarray of cartesian coordinates for each barycentric\n",
    "        coordinate provided.\n",
    "    '''\n",
    "\n",
    "    if corners is None:\n",
    "        corners = polycorners(bary.shape[-1])\n",
    "\n",
    "    cart = None\n",
    "\n",
    "    if len(bary.shape) > 1 and bary.shape[1] > 1:\n",
    "        cart = np.array([np.sum(b / np.sum(b) * corners.T, axis=1) for b in bary])\n",
    "    else:\n",
    "        cart = np.sum(bary / np.sum(bary) * corners.T, axis=1)\n",
    "\n",
    "    return cart"
   ]
  },
  {
   "cell_type": "code",
   "execution_count": 23,
   "metadata": {
    "ExecuteTime": {
     "end_time": "2021-04-25T05:39:22.153594Z",
     "start_time": "2021-04-25T05:39:21.859041Z"
    }
   },
   "outputs": [
    {
     "data": {
      "image/png": "[encoded data removed]",
      "text/plain": [
       "<Figure size 1080x288 with 4 Axes>"
      ]
     },
     "metadata": {
      "needs_background": "light"
     },
     "output_type": "display_data"
    }
   ],
   "source": [
    "fig, axs = plt.subplots(1, 4, figsize=(15, 4))\n",
    "proba = [[] for _ in range(4)]\n",
    "\n",
    "proba[0] = np.array([[0.31511728, 0.12045012, 0.28412796, 0.02563582, 0.25466883],\n",
    "                     [0.33, 0.11, 0.26, 0.05, 0.25]])\n",
    "proba[1] = np.array([[0.31511728, 0.12045012, 0.28412796, 0.02563582, 0.25466883],\n",
    "                     [0.08457062, 0.26072954, 0.29498721, 0.01254854, 0.34716409]])\n",
    "proba[2] = np.array([[0.14014644, 0.04935974, 0.28274635, 0.46219604, 0.06555144],\n",
    "                     [0.22095176, 0.14958564, 0.14118523, 0.205537  , 0.28274036]])\n",
    "proba[3] = np.array([[0.05317645, 0.02748941, 0.75386234, 0.09827935, 0.06719246],\n",
    "                     [0.08040661, 0.35082735, 0.03987221, 0.04513501, 0.48375882]])\n",
    "for i in range(len(proba)):\n",
    "    ax = axs[i]\n",
    "    points, vertices = proba2cartesian(proba[i], r=1)\n",
    "    plot_proba(points, vertices, ax=ax)\n",
    "    dist = js_entropy(proba[i][0, :], proba[i][1, :])\n",
    "    ax.set_title(f\"dist={dist:.3f}\")"
   ]
  },
  {
   "cell_type": "code",
   "execution_count": 378,
   "metadata": {
    "ExecuteTime": {
     "end_time": "2021-04-25T21:41:18.569854Z",
     "start_time": "2021-04-25T21:41:18.365435Z"
    }
   },
   "outputs": [
    {
     "data": {
      "image/png": "[encoded data removed]",
      "text/plain": [
       "<Figure size 720x288 with 2 Axes>"
      ]
     },
     "metadata": {
      "needs_background": "light"
     },
     "output_type": "display_data"
    }
   ],
   "source": [
    "fig, axs = plt.subplots(1, 2, figsize=(10, 4))\n",
    "\n",
    "proba = np.array([[0., 0.8, 0.05, 0.0, 0.15], [0.8, 0, 0.05, 0.0, 0.15]])\n",
    "dist = js_entropy(*proba)\n",
    "points, vertices = proba2cartesian(proba, r=1)\n",
    "_ = plot_proba(points, vertices, ax=axs[0])\n",
    "axs[0].set_title(f\"dist={dist:.3f}\")\n",
    "\n",
    "proba = np.array([[0.8, 0, 0.05, 0.0, 0.15], [0.8, 0, 0, 0.15, 0.05]])\n",
    "points, vertices = proba2cartesian(proba, r=1)\n",
    "dist = js_entropy(*proba)\n",
    "_ = plot_proba(points, vertices, ax=axs[1])\n",
    "_ = axs[1].set_title(f\"dist={dist:.3f}\")"
   ]
  },
  {
   "cell_type": "code",
   "execution_count": null,
   "metadata": {},
   "outputs": [],
   "source": []
  }
 ],
 "metadata": {
  "kernelspec": {
   "display_name": "Python 3",
   "language": "python",
   "name": "python3"
  },
  "language_info": {
   "codemirror_mode": {
    "name": "ipython",
    "version": 3
   },
   "file_extension": ".py",
   "mimetype": "text/x-python",
   "name": "python",
   "nbconvert_exporter": "python",
   "pygments_lexer": "ipython3",
   "version": "3.8.3"
  },
  "toc": {
   "base_numbering": 1,
   "nav_menu": {},
   "number_sections": false,
   "sideBar": true,
   "skip_h1_title": false,
   "title_cell": "Table of Contents",
   "title_sidebar": "Contents",
   "toc_cell": false,
   "toc_position": {},
   "toc_section_display": true,
   "toc_window_display": true
  },
  "varInspector": {
   "cols": {
    "lenName": 16,
    "lenType": 16,
    "lenVar": 40
   },
   "kernels_config": {
    "python": {
     "delete_cmd_postfix": "",
     "delete_cmd_prefix": "del ",
     "library": "var_list.py",
     "varRefreshCmd": "print(var_dic_list())"
    },
    "r": {
     "delete_cmd_postfix": ") ",
     "delete_cmd_prefix": "rm(",
     "library": "var_list.r",
     "varRefreshCmd": "cat(var_dic_list()) "
    }
   },
   "types_to_exclude": [
    "module",
    "function",
    "builtin_function_or_method",
    "instance",
    "_Feature"
   ],
   "window_display": false
  }
 },
 "nbformat": 4,
 "nbformat_minor": 2
}
