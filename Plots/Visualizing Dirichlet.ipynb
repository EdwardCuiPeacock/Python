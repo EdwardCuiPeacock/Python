{
 "cells": [
  {
   "cell_type": "markdown",
   "metadata": {},
   "source": [
    "# Visualizing Dirichlet with 3 Parameters\n",
    "\n",
    "Based on\n",
    "http://blog.bogatron.net/blog/2014/02/02/visualizing-dirichlet-distributions/\n",
    "\n",
    "with extensions"
   ]
  },
  {
   "cell_type": "markdown",
   "metadata": {},
   "source": [
    "# Making a mesh grid of n polygon"
   ]
  },
  {
   "cell_type": "code",
   "execution_count": 1,
   "metadata": {},
   "outputs": [
    {
     "data": {
      "image/png": "[encoded data removed]",
      "text/plain": [
       "<Figure size 576x288 with 2 Axes>"
      ]
     },
     "metadata": {
      "needs_background": "light"
     },
     "output_type": "display_data"
    }
   ],
   "source": [
    "%matplotlib inline\n",
    "import numpy as np\n",
    "import matplotlib.pyplot as plt\n",
    "import matplotlib.tri as tri\n",
    "\n",
    "\n",
    "def polygon_mesh(s=4, n=3, r=1):\n",
    "    \"\"\"\n",
    "    Paramters:\n",
    "        * s: subdivision depth\n",
    "        * n: number of sides of the polygon\n",
    "        * r: radius of the polygon, i.e. distance between \n",
    "             center of the polygon to one of the verticies\n",
    "       \n",
    "    Return:\n",
    "        * vertices: vertices of the polygon\n",
    "        * triangle: triangulated version of the polygon \n",
    "            (matplotlib.tri.triangulation.Triangulation)\n",
    "        * trimesh: triangle mesh version of the polygon\n",
    "            (matplotlib.tri.triangulation.Triangulation)\n",
    "    \"\"\"\n",
    "    vertices = np.c_[r * np.cos(2 * np.pi * np.arange(1, n+1) / n  - (np.pi/2-np.pi/n)), \n",
    "                     r * np.sin(2 * np.pi * np.arange(1, n+1) / n  - (np.pi/2-np.pi/n))]\n",
    "    if n>3: # add the center to triangulation\n",
    "        vertices = np.vstack([vertices, vertices.mean(axis=0)])\n",
    "\n",
    "    triangle = tri.Triangulation(vertices[:, 0], vertices[:, 1])\n",
    "    refiner = tri.UniformTriRefiner(triangle)\n",
    "    trimesh = refiner.refine_triangulation(subdiv=s if n>3 else s+1)\n",
    "    \n",
    "    return vertices, triangle, trimesh\n",
    "\n",
    "vertices, triangle, trimesh = polygon_mesh(s=4, n=3, r=1)\n",
    "\n",
    "plt.figure(figsize=(8, 4))\n",
    "for (i, mesh) in enumerate((triangle, trimesh)):\n",
    "    plt.subplot(1, 2, i+ 1)\n",
    "    plt.triplot(mesh)\n",
    "    plt.axis('off')\n",
    "    plt.axis('equal')"
   ]
  },
  {
   "cell_type": "markdown",
   "metadata": {},
   "source": [
    "# Converting to Barycenter coordinates"
   ]
  },
  {
   "cell_type": "code",
   "execution_count": 65,
   "metadata": {
    "code_folding": []
   },
   "outputs": [],
   "source": [
    "def barycentric_coordinates_simplex(vertices, points):\n",
    "    \"\"\"\n",
    "    Use the relationship:\n",
    "                      [[x1, y1, 1],     \n",
    "      [λ1, λ2, λ3] *   [x2, y2, 1],  = [X, Y, 1]\n",
    "                       [x3, y3, 1]]\n",
    "                       \n",
    "    where \n",
    "    λ are Barycentric coorinates, \n",
    "    x1, y1, ... etc. are vertices, and \n",
    "    X, Y are Cartesian points\n",
    "    \n",
    "    This function can solve multi-dimensional simplex barycentric coordinates.\n",
    "    \"\"\"\n",
    "    # Make the vertice matrix\n",
    "    T = np.hstack([vertices, np.ones((3, 1))])\n",
    "    if len(points.shape) < 2:\n",
    "        points = points[np.newaxis, :]\n",
    "    P = np.hstack([points, np.ones((points.shape[0], 1))])\n",
    "    Lambdas = np.matmul(P, np.linalg.inv(T))\n",
    "    if points.shape[0]<2:\n",
    "        Lambdas = Lambdas[0]\n",
    "    return Lambdas    \n",
    "\n",
    "\n",
    "def barycentric_coordinates_simplex2(vertices, points):\n",
    "    \"\"\"\n",
    "    Use the relationship:\n",
    "                [[x1-x3, y1-y3],     \n",
    "      [λ1, λ2] * [x2-x3, y2-y3]] = [X-x3, Y-y3]\n",
    "                       \n",
    "       λ3 = 1 - λ1 - λ2\n",
    "                       \n",
    "    where \n",
    "    λ are Barycentric coorinates, \n",
    "    x1, y1, ... etc. are vertices, and \n",
    "    X, Y are Cartesian points\n",
    "    \n",
    "    This function can solve multi-dimensional simplex barycentric coordinates.\n",
    "    \"\"\"\n",
    "    T = vertices[:-1, :] - vertices[-1:None, :]\n",
    "    if len(points.shape) < 2:\n",
    "        points = points[np.newaxis, :]\n",
    "    P = points - vertices[-1:None, :]\n",
    "    Lambdas = np.matmul(P, np.linalg.inv(T))\n",
    "    # Calculate the last lambda\n",
    "    Lambdas = np.hstack([Lambdas, 1-np.sum(Lambdas, axis=1, keepdims=True)])\n",
    "    if points.shape[0]<2:\n",
    "        Lambdas = Lambdas[0]\n",
    "    return Lambdas\n",
    "    "
   ]
  },
  {
   "cell_type": "code",
   "execution_count": 66,
   "metadata": {},
   "outputs": [
    {
     "name": "stdout",
     "output_type": "stream",
     "text": [
      "[0.46666667 0.20893164 0.32440169]\n",
      "[0.46666667 0.20893164 0.32440169]\n"
     ]
    }
   ],
   "source": [
    "points = np.array([0.1, 0.2])\n",
    "print(barycentric_coordinates_simplex(vertices, points))\n",
    "print(barycentric_coordinates_simplex2(vertices, points))"
   ]
  },
  {
   "cell_type": "markdown",
   "metadata": {},
   "source": [
    "# Calculate Dirichlet PDF"
   ]
  },
  {
   "cell_type": "code",
   "execution_count": 12,
   "metadata": {},
   "outputs": [
    {
     "data": {
      "text/plain": [
       "0.5556159521906762"
      ]
     },
     "execution_count": 12,
     "metadata": {},
     "output_type": "execute_result"
    }
   ],
   "source": [
    "from scipy.special import gamma as gamma_func\n",
    "def dirichlet_pdf(alpha, x):\n",
    "    \"\"\"\n",
    "    alpha: array of Dirichlet alpha parameter\n",
    "    x: array of the support of Dirichlet\n",
    "    \"\"\"\n",
    "    alpha , x = np.array(alpha), np.array(x)\n",
    "    assert alpha.shape[0] == x.shape[-1]\n",
    "    coef = gamma_func(np.sum(alpha)) / np.prod(gamma_func(alpha))\n",
    "    pdf = coef * np.prod(np.power(x, alpha-1), axis=1 if len(x.shape)>1 else None)\n",
    "    return pdf\n",
    "\n",
    "dirichlet_pdf([0.3, 0.5, 0.3], [0.2,0.4,0.4])"
   ]
  },
  {
   "cell_type": "markdown",
   "metadata": {},
   "source": [
    "# Make the plots"
   ]
  },
  {
   "cell_type": "code",
   "execution_count": 10,
   "metadata": {},
   "outputs": [
    {
     "data": {
      "image/png": "[encoded data removed]",
      "text/plain": [
       "<Figure size 432x288 with 1 Axes>"
      ]
     },
     "metadata": {
      "needs_background": "light"
     },
     "output_type": "display_data"
    }
   ],
   "source": [
    "def plot_dirichlet_contour(alpha=np.array([1, 1, 1]), nlevels=200, resolution=8, cmap='jet', **kwargs):\n",
    "    # Make the polygon\n",
    "    vertices, _, trimesh = polygon_mesh(s=resolution, n=3, r=1)\n",
    "    # Convert to Barycentric coordinates\n",
    "    points = np.c_[trimesh.x, trimesh.y]\n",
    "    shifts = np.min(vertices, axis=0)\n",
    "    points = points - shifts\n",
    "    vertices = vertices - shifts\n",
    "    bary_coord = barycentric_coordinates_simplex(vertices, points)\n",
    "    # Calculate Dirichlet pdf\n",
    "    pvals = dirichlet_pdf(alpha, bary_coord)\n",
    "\n",
    "    # Make the plot\n",
    "    plt.tricontourf(trimesh, pvals, nlevels, cmap=cmap, **kwargs)\n",
    "    plt.gca().text(vertices[0,0]+shifts[0], vertices[0, 1]+shifts[1], \"1\", ha='center', va='bottom')\n",
    "    plt.gca().text(vertices[1,0]+shifts[0], vertices[1, 1]+shifts[1], \"2\", ha='right', va='center')\n",
    "    plt.gca().text(vertices[2,0]+shifts[0], vertices[2, 1]+shifts[1], \"3\", ha='left', va='center')\n",
    "\n",
    "    plt.axis('equal')\n",
    "    plt.axis('off')\n",
    "    \n",
    "plot_dirichlet_contour([2, 5, 15])"
   ]
  },
  {
   "cell_type": "markdown",
   "metadata": {},
   "source": [
    "# Barycentric Coordinates of N polygon\n",
    "\n",
    "[Generalized Barycentric Coordinates on Irregular Polygons](http://www.geometry.caltech.edu/pubs/MHBD02.pdf)"
   ]
  },
  {
   "cell_type": "code",
   "execution_count": 116,
   "metadata": {},
   "outputs": [
    {
     "name": "stdout",
     "output_type": "stream",
     "text": [
      "[[0.46666667 0.09346159 0.43987175]\n",
      " [0.46666667 0.20893164 0.32440169]]\n",
      "[[0.46666494 0.09346172 0.43987335]\n",
      " [0.466666   0.20893176 0.32440224]]\n"
     ]
    }
   ],
   "source": [
    "def cotangent(a, b, c):\n",
    "    \"\"\"Compute cotagent of non-degenerate triangle abc at vertex b\"\"\"\n",
    "    ba = a - b # m x 2 matrix\n",
    "    bc = c - b # 1 x 2 vector\n",
    "    return np.dot(ba, bc) / np.abs(np.cross(ba, bc)+1E-6) # 1 x m vector\n",
    "    \n",
    "\n",
    "def barycentric_coordinates_n_polygon(vertices, points):\n",
    "    \"\"\"\n",
    "    Compute the barycentric weights for a set of points in an N polygon\n",
    "    Assume all the points are strictly within the polygon \n",
    "    and the vertices are ordered\n",
    "    \n",
    "    For a single point \"p\", the algorithm is:\n",
    "    \n",
    "    cotangent = lambda a, b, c: np.dot(c-b, a-b) / np.sum((np.cross(c-b, a-b))**2)\n",
    "    \n",
    "    n = vertices.shape[0] # number of sides / vertices in the polygon\n",
    "    w = np.empty(n)\n",
    "    for j, q_j in enumerate(vertices):\n",
    "        prev_index = (j+n-1) % n\n",
    "        next_index = (j+1) % n\n",
    "        w[j] = (cotangent(p, q_j, vertices[prev_index]) + \\\n",
    "                cotangent(p, q_j, vertices[next_index])) / \\\n",
    "                np.sum((p - q_j)**2)\n",
    "        \n",
    "    w = w / np.sum(w)\n",
    "    \n",
    "    return w\n",
    "    \"\"\"\n",
    "    if len(points.shape) < 2:\n",
    "        points = points[np.newaxis, :]\n",
    "    n = vertices.shape[0] # number of sides / vertices in the polygon\n",
    "    m = points.shape[0] # number of points\n",
    "    w = np.empty((m, n)) # m points, n vertices\n",
    "    for j, q_j in enumerate(vertices):\n",
    "        prev_index = (j+n-1) % n\n",
    "        next_index = (j+1) % n\n",
    "        w[:, j] = (cotangent(points, q_j, vertices[prev_index]) + \\\n",
    "                   cotangent(points, q_j, vertices[next_index])) / \\\n",
    "                   np.sum((points - q_j)**2+1E-6, axis=1)\n",
    "        \n",
    "    # Normalize weights\n",
    "    w = w / np.sum(w, axis=1, keepdims=True)\n",
    "    \n",
    "    if w.shape[0] < 2:\n",
    "        w = w[0]\n",
    "    \n",
    "    return w\n",
    "\n",
    "vertices, _, trimesh = polygon_mesh(s=4, n=3, r=1)\n",
    "points = np.array([[0.3, 0.2], [0.1, 0.2]])\n",
    "print(barycentric_coordinates_simplex(vertices, points))\n",
    "print(barycentric_coordinates_n_polygon(vertices, points))"
   ]
  },
  {
   "cell_type": "code",
   "execution_count": 127,
   "metadata": {
    "scrolled": false
   },
   "outputs": [
    {
     "data": {
      "image/png": "[encoded data removed]",
      "text/plain": [
       "<Figure size 432x288 with 1 Axes>"
      ]
     },
     "metadata": {
      "needs_background": "light"
     },
     "output_type": "display_data"
    }
   ],
   "source": [
    "def plot_dirichlet_contour_n_poly(alpha=np.array([1, 1, 1]), nlevels=200, resolution=8, cmap='jet', **kwargs):\n",
    "    # Make the polygon\n",
    "    vertices, _, trimesh = polygon_mesh(s=resolution, n=len(alpha), r=1)\n",
    "    if vertices.shape[0]>3: # for polygons greater than 3\n",
    "        center, vertices = vertices[-1, :], vertices[:-1, :]\n",
    "    else:\n",
    "        center = np.mean(vertices, axis=0)\n",
    "    # Convert to Barycentric coordinates\n",
    "    points = np.c_[trimesh.x, trimesh.y]\n",
    "    shifts = np.min(vertices, axis=0)\n",
    "    points = points - shifts\n",
    "    offsets = (vertices - center) * 0.05\n",
    "    vertices = vertices - shifts\n",
    "    bary_coord = barycentric_coordinates_n_polygon(vertices, points)\n",
    "    #bary_coord[~np.isfinite(bary_coord)] = 0\n",
    "    # Calculate Dirichlet pdf\n",
    "    pvals = dirichlet_pdf(alpha, bary_coord)\n",
    "\n",
    "    # Make the plot\n",
    "    plt.tricontourf(trimesh, pvals, nlevels, cmap=cmap, **kwargs)\n",
    "    \n",
    "    # Label the vertices\n",
    "    for i in range(vertices.shape[0]):\n",
    "        plt.gca().text(vertices[i,0]+shifts[0]+offsets[i, 0], vertices[i, 1]+shifts[1]+offsets[i, 1], \n",
    "                       \"{:d}\".format(i+1), ha='center', va='center')\n",
    "    \n",
    "    plt.axis('equal')\n",
    "    plt.axis('off')\n",
    "\n",
    "alpha = np.array([2, 5, 15, 25])\n",
    "plot_dirichlet_contour_n_poly(alpha)"
   ]
  },
  {
   "cell_type": "code",
   "execution_count": null,
   "metadata": {},
   "outputs": [],
   "source": []
  }
 ],
 "metadata": {
  "kernelspec": {
   "display_name": "Python 3",
   "language": "python",
   "name": "python3"
  },
  "language_info": {
   "codemirror_mode": {
    "name": "ipython",
    "version": 3
   },
   "file_extension": ".py",
   "mimetype": "text/x-python",
   "name": "python",
   "nbconvert_exporter": "python",
   "pygments_lexer": "ipython3",
   "version": "3.7.4"
  },
  "toc": {
   "base_numbering": 1,
   "nav_menu": {},
   "number_sections": false,
   "sideBar": true,
   "skip_h1_title": false,
   "title_cell": "Table of Contents",
   "title_sidebar": "Contents",
   "toc_cell": false,
   "toc_position": {},
   "toc_section_display": true,
   "toc_window_display": false
  },
  "varInspector": {
   "cols": {
    "lenName": 16,
    "lenType": 16,
    "lenVar": 40
   },
   "kernels_config": {
    "python": {
     "delete_cmd_postfix": "",
     "delete_cmd_prefix": "del ",
     "library": "var_list.py",
     "varRefreshCmd": "print(var_dic_list())"
    },
    "r": {
     "delete_cmd_postfix": ") ",
     "delete_cmd_prefix": "rm(",
     "library": "var_list.r",
     "varRefreshCmd": "cat(var_dic_list()) "
    }
   },
   "types_to_exclude": [
    "module",
    "function",
    "builtin_function_or_method",
    "instance",
    "_Feature"
   ],
   "window_display": false
  }
 },
 "nbformat": 4,
 "nbformat_minor": 2
}
